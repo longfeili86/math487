{
 "cells": [
  {
   "cell_type": "markdown",
   "metadata": {},
   "source": [
    "# Lecture 7\n",
    "\n",
    "## References\n",
    "\n",
    "* Numerical Python: Scientific Computing and Data Science Applications with Numpy, SciPy and Matplotlib (2nd Edition), Robert Johansson.  "
   ]
  },
  {
   "cell_type": "markdown",
   "metadata": {},
   "source": [
    "## This Lecture\n",
    "* Polynomial Interpolation\n",
    "* Introduction of numpy's polynomial submodule"
   ]
  },
  {
   "cell_type": "markdown",
   "metadata": {},
   "source": [
    "## Recall:\n",
    "\n",
    "* Weierstrass theorem says any continuous function can be approximated by a polynomial\n",
    "* fit $n+1$ data points $(x_i,y_i)$ for $i=0,...,n$ using a polynomial\n",
    "* Finding a polynomial for these type of questions is often referred to as **Polynomial Interpolation**\n",
    "\n",
    "\n",
    "Given  $n+1$ data points $(x_i,y_i)$ for $i=0,...,n$, we have a unique polynimial \n",
    "$$\n",
    "p_n(x) = c_0+c_1x+c_2x^2+\\dots+c_nx^n\n",
    "$$\n",
    "such that \n",
    "$$\n",
    "p_n(x_i)=y_i,~~\\forall i = 0,\\dots,n\n",
    "$$\n",
    "This polynomial $P_n(x)$ is called interpolant.   \n",
    "\n",
    "\n",
    "How to determine the polynomial?\n",
    "1. Direct Approach: \n",
    "Given that $p_n(x)$ satisfies the $n+1$ conditions $p_n(x_i)=y_i,~~\\forall i = 0,\\dots,n$, we have the following $n+1$ equations\n",
    "\n",
    "\\begin{align} \n",
    "\\begin{cases}\n",
    "c_0+c_1x_0+c_2x_0^2+\\dots+c_nx_0^n&=y_0 \\\\\n",
    "c_0+c_1x_1+c_2x_1^2+\\dots+c_nx_1^n&=y_1 \\\\\n",
    "\\hspace{0.2in}\\vdots\\hspace{1.in} & \\vdots\\\\\n",
    "c_0+c_1x_n+c_2x_n^2+\\dots+c_nx_n^n&=y_n\n",
    "\\end{cases}\n",
    "\\end{align}\n",
    "The above equation can be written into matrix form:\n",
    "$$\n",
    "\\begin{bmatrix} \n",
    "1 & x_0 & \\dots & x_0^2 \\\\\n",
    "1 & x_1 & \\dots & x_1^2 \\\\\n",
    "\\vdots& \\vdots &\\dots & \\vdots\\\\\n",
    "1 & x_n & \\dots & x_n^2 \\\\\n",
    "\\end{bmatrix} \n",
    "\\begin{bmatrix}\n",
    "c_0\\\\\n",
    "c_1\\\\\n",
    "\\vdots\\\\\n",
    "c_n\n",
    "\\end{bmatrix} \n",
    "= \n",
    "\\begin{bmatrix}\n",
    "y_0\\\\\n",
    "y_1\\\\\n",
    "\\vdots\\\\\n",
    "y_n\n",
    "\\end{bmatrix} \n",
    "$$\n",
    "This matrix \n",
    "$$\n",
    "V= \\begin{bmatrix}\n",
    "1 & x_0 & \\dots & x_0^2 \\\\\n",
    "1 & x_1 & \\dots & x_1^2 \\\\\n",
    "\\vdots& \\vdots &\\dots & \\vdots\\\\\n",
    "1 & x_n & \\dots & x_n^2 \\\\\n",
    "\\end{bmatrix} \n",
    "$$\n",
    "is called the Vandermonde Matrix. Solving the system of linear equations gives the coefficient of the polynimial. \n",
    "\n",
    "2. Lagrange Interpolation:\n",
    "$$\n",
    "p_n(x) = \\sum_{k=0}^{n}y_k l_{k}(x) ~~~\\text{with}~~~ l_k(x)=\\prod_{j=0\\\\j\\neq k}^n\\frac{x-x_j}{x_k-x_j}\n",
    "$$\n",
    "\n",
    "3. Many more algoritgms such as **Newton, Chebyshev, Legendre** etc. to be learned by interested students from higher level numerical analysis courses. \n"
   ]
  },
  {
   "cell_type": "markdown",
   "metadata": {},
   "source": [
    "## Polynomials\n",
    "\n",
    "Before we start to solve interpolation problems, we need a convinient way of working with polynomials in Python. \n",
    "\n",
    "We briefly introduce the NumPy submodule **polynomial**:"
   ]
  },
  {
   "cell_type": "code",
   "execution_count": 2,
   "metadata": {},
   "outputs": [],
   "source": [
    "import numpy as np\n",
    "# import the polynomial submodule as P\n",
    "from numpy import polynomial as P"
   ]
  },
  {
   "cell_type": "markdown",
   "metadata": {},
   "source": [
    "To create a polynomial instance, we can pass the coefficient array. The ith element of the array corresponds to $c_i$ of the polynomial\n",
    "\n",
    "Example: we can create $p(x)=1+2x+3x^2$ by passing its coefficient array [1,2,3]"
   ]
  },
  {
   "cell_type": "code",
   "execution_count": 3,
   "metadata": {},
   "outputs": [],
   "source": [
    "p1=P.Polynomial([1,2,3])"
   ]
  },
  {
   "cell_type": "code",
   "execution_count": 4,
   "metadata": {},
   "outputs": [
    {
     "data": {
      "text/latex": [
       "$x \\mapsto \\text{1.0} + \\text{2.0}\\,x + \\text{3.0}\\,x^{2}$"
      ],
      "text/plain": [
       "Polynomial([1., 2., 3.], domain=[-1,  1], window=[-1,  1])"
      ]
     },
     "execution_count": 4,
     "metadata": {},
     "output_type": "execute_result"
    }
   ],
   "source": [
    "p1"
   ]
  },
  {
   "cell_type": "markdown",
   "metadata": {},
   "source": [
    " We can also create a polynomial by specifying its roots"
   ]
  },
  {
   "cell_type": "code",
   "execution_count": 7,
   "metadata": {},
   "outputs": [],
   "source": [
    "p2=P.Polynomial.fromroots([-1,1])"
   ]
  },
  {
   "cell_type": "code",
   "execution_count": 8,
   "metadata": {},
   "outputs": [
    {
     "data": {
      "text/latex": [
       "$x \\mapsto \\text{-1.0}\\color{LightGray}{ + \\text{0.0}\\,x} + \\text{1.0}\\,x^{2}$"
      ],
      "text/plain": [
       "Polynomial([-1.,  0.,  1.], domain=[-1.,  1.], window=[-1.,  1.])"
      ]
     },
     "execution_count": 8,
     "metadata": {},
     "output_type": "execute_result"
    }
   ],
   "source": [
    "p2"
   ]
  },
  {
   "cell_type": "markdown",
   "metadata": {},
   "source": [
    "For a given polynomial, we can compute its roots using the roots() method"
   ]
  },
  {
   "cell_type": "code",
   "execution_count": 9,
   "metadata": {},
   "outputs": [
    {
     "data": {
      "text/plain": [
       "array([-0.33333333-0.47140452j, -0.33333333+0.47140452j])"
      ]
     },
     "execution_count": 9,
     "metadata": {},
     "output_type": "execute_result"
    }
   ],
   "source": [
    "p1.roots()"
   ]
  },
  {
   "cell_type": "code",
   "execution_count": 10,
   "metadata": {},
   "outputs": [
    {
     "data": {
      "text/plain": [
       "array([-1.,  1.])"
      ]
     },
     "execution_count": 10,
     "metadata": {},
     "output_type": "execute_result"
    }
   ],
   "source": [
    "p2.roots()"
   ]
  },
  {
   "cell_type": "markdown",
   "metadata": {},
   "source": [
    "Properties of the polynomial can be accessed using coeff, domain, "
   ]
  },
  {
   "cell_type": "code",
   "execution_count": 11,
   "metadata": {},
   "outputs": [
    {
     "data": {
      "text/plain": [
       "array([1., 2., 3.])"
      ]
     },
     "execution_count": 11,
     "metadata": {},
     "output_type": "execute_result"
    }
   ],
   "source": [
    "p1.coef"
   ]
  },
  {
   "cell_type": "code",
   "execution_count": 12,
   "metadata": {},
   "outputs": [
    {
     "data": {
      "text/plain": [
       "array([-1,  1])"
      ]
     },
     "execution_count": 12,
     "metadata": {},
     "output_type": "execute_result"
    }
   ],
   "source": [
    "p1.domain"
   ]
  },
  {
   "cell_type": "markdown",
   "metadata": {},
   "source": [
    "## Evaluating a polynomial at any values of $x$:"
   ]
  },
  {
   "cell_type": "code",
   "execution_count": 14,
   "metadata": {},
   "outputs": [],
   "source": [
    "x=np.array([1.5,2.5,3.5]) "
   ]
  },
  {
   "cell_type": "code",
   "execution_count": 16,
   "metadata": {},
   "outputs": [
    {
     "data": {
      "text/plain": [
       "array([10.75, 24.75, 44.75])"
      ]
     },
     "execution_count": 16,
     "metadata": {},
     "output_type": "execute_result"
    }
   ],
   "source": [
    "p1(x) # elementwise evaluation"
   ]
  },
  {
   "cell_type": "markdown",
   "metadata": {},
   "source": [
    "## Polynomial Operations:\n",
    "+,-,*,// (note: polynomial division uses //)\n",
    "\n",
    "**Example**: consider $p_1=(x-3)(x-2)(x-1)$, $p_2=(x-2)$. \n",
    "If $p_3=p_1/p_2 $, then $p_3=(x-3)(x-1)$"
   ]
  },
  {
   "cell_type": "code",
   "execution_count": 17,
   "metadata": {},
   "outputs": [],
   "source": [
    "p1=P.Polynomial.fromroots([3,2,1])"
   ]
  },
  {
   "cell_type": "code",
   "execution_count": 18,
   "metadata": {},
   "outputs": [],
   "source": [
    "p2=P.Polynomial.fromroots([2])"
   ]
  },
  {
   "cell_type": "code",
   "execution_count": 19,
   "metadata": {},
   "outputs": [
    {
     "data": {
      "text/latex": [
       "$x \\mapsto \\text{-6.0} + \\text{11.0}\\,x - \\text{6.0}\\,x^{2} + \\text{1.0}\\,x^{3}$"
      ],
      "text/plain": [
       "Polynomial([-6., 11., -6.,  1.], domain=[-1.,  1.], window=[-1.,  1.])"
      ]
     },
     "execution_count": 19,
     "metadata": {},
     "output_type": "execute_result"
    }
   ],
   "source": [
    "p1"
   ]
  },
  {
   "cell_type": "code",
   "execution_count": 20,
   "metadata": {},
   "outputs": [
    {
     "data": {
      "text/latex": [
       "$x \\mapsto \\text{-2.0} + \\text{1.0}\\,x$"
      ],
      "text/plain": [
       "Polynomial([-2.,  1.], domain=[-1.,  1.], window=[-1.,  1.])"
      ]
     },
     "execution_count": 20,
     "metadata": {},
     "output_type": "execute_result"
    }
   ],
   "source": [
    "p2"
   ]
  },
  {
   "cell_type": "code",
   "execution_count": 21,
   "metadata": {},
   "outputs": [],
   "source": [
    "p3=p1//p2"
   ]
  },
  {
   "cell_type": "code",
   "execution_count": 22,
   "metadata": {},
   "outputs": [
    {
     "data": {
      "text/latex": [
       "$x \\mapsto \\text{3.0} - \\text{4.0}\\,x + \\text{1.0}\\,x^{2}$"
      ],
      "text/plain": [
       "Polynomial([ 3., -4.,  1.], domain=[-1.,  1.], window=[-1.,  1.])"
      ]
     },
     "execution_count": 22,
     "metadata": {},
     "output_type": "execute_result"
    }
   ],
   "source": [
    "p3"
   ]
  },
  {
   "cell_type": "code",
   "execution_count": 23,
   "metadata": {},
   "outputs": [
    {
     "data": {
      "text/plain": [
       "array([1., 3.])"
      ]
     },
     "execution_count": 23,
     "metadata": {},
     "output_type": "execute_result"
    }
   ],
   "source": [
    "p3.roots()"
   ]
  },
  {
   "cell_type": "code",
   "execution_count": 24,
   "metadata": {},
   "outputs": [],
   "source": [
    "p4=p1+p2"
   ]
  },
  {
   "cell_type": "code",
   "execution_count": 25,
   "metadata": {},
   "outputs": [
    {
     "data": {
      "text/latex": [
       "$x \\mapsto \\text{-8.0} + \\text{12.0}\\,x - \\text{6.0}\\,x^{2} + \\text{1.0}\\,x^{3}$"
      ],
      "text/plain": [
       "Polynomial([-8., 12., -6.,  1.], domain=[-1.,  1.], window=[-1.,  1.])"
      ]
     },
     "execution_count": 25,
     "metadata": {},
     "output_type": "execute_result"
    }
   ],
   "source": [
    "p4"
   ]
  },
  {
   "cell_type": "markdown",
   "metadata": {},
   "source": [
    "## Polynomial Interpolation"
   ]
  },
  {
   "cell_type": "markdown",
   "metadata": {},
   "source": [
    "Example: find the interpolating polynomial for the data points:\n",
    "$$\n",
    "(1,1), (2,3),(3,5),(4,4)\n",
    "$$\n",
    "\n",
    "The polynomial is of the form:\n",
    "$$\n",
    "p(x)=c_0+c_1x+c_2x^2+c_3x^3\n",
    "$$\n",
    "\n",
    "We use the direct approach. Thus we need to solve the linear system $V\\mathbf{c}=\\mathbf{y}$ and $V$ is the Vandermonde Matrix. \n",
    "\n",
    "* Python has conviently provides a function to compute Vandermonde Matrix (see example below).\n",
    "* To obtain the coefficient of the polynomial, we solve  $V\\mathbf{c}=\\mathbf{y}$  using the linear algebra (**linalg**) submodule from scipy"
   ]
  },
  {
   "cell_type": "code",
   "execution_count": 26,
   "metadata": {},
   "outputs": [],
   "source": [
    "x=np.array([1,2,3,4]) #x coordinates of data points\n",
    "y=np.array([1,3,5,4]) #y coordinates of data points"
   ]
  },
  {
   "cell_type": "code",
   "execution_count": 28,
   "metadata": {},
   "outputs": [],
   "source": [
    "deg = len(x)-1  # degree of the polynomial\n",
    "V = P.polynomial.polyvander(x,deg)  # compute the Vandermonde matrix of deg"
   ]
  },
  {
   "cell_type": "code",
   "execution_count": 29,
   "metadata": {},
   "outputs": [
    {
     "data": {
      "text/plain": [
       "array([[ 1.,  1.,  1.,  1.],\n",
       "       [ 1.,  2.,  4.,  8.],\n",
       "       [ 1.,  3.,  9., 27.],\n",
       "       [ 1.,  4., 16., 64.]])"
      ]
     },
     "execution_count": 29,
     "metadata": {},
     "output_type": "execute_result"
    }
   ],
   "source": [
    "V"
   ]
  },
  {
   "cell_type": "code",
   "execution_count": 31,
   "metadata": {},
   "outputs": [],
   "source": [
    "from scipy import linalg\n",
    "c=linalg.solve(V,y)"
   ]
  },
  {
   "cell_type": "code",
   "execution_count": 32,
   "metadata": {},
   "outputs": [
    {
     "data": {
      "text/plain": [
       "array([ 2. , -3.5,  3. , -0.5])"
      ]
     },
     "execution_count": 32,
     "metadata": {},
     "output_type": "execute_result"
    }
   ],
   "source": [
    "c"
   ]
  },
  {
   "cell_type": "code",
   "execution_count": 33,
   "metadata": {},
   "outputs": [],
   "source": [
    "p=P.Polynomial(c) # the polynomial interpolant is found"
   ]
  },
  {
   "cell_type": "code",
   "execution_count": 34,
   "metadata": {},
   "outputs": [
    {
     "data": {
      "text/latex": [
       "$x \\mapsto \\text{2.0} - \\text{3.5}\\,x + \\text{3.0}\\,x^{2} - \\text{0.5}\\,x^{3}$"
      ],
      "text/plain": [
       "Polynomial([ 2. , -3.5,  3. , -0.5], domain=[-1,  1], window=[-1,  1])"
      ]
     },
     "execution_count": 34,
     "metadata": {},
     "output_type": "execute_result"
    }
   ],
   "source": [
    "p"
   ]
  },
  {
   "cell_type": "code",
   "execution_count": 35,
   "metadata": {},
   "outputs": [
    {
     "data": {
      "text/plain": [
       "4.1875"
      ]
     },
     "execution_count": 35,
     "metadata": {},
     "output_type": "execute_result"
    }
   ],
   "source": [
    "p(2.5) # we can evaluate at any x value using the interpolant"
   ]
  },
  {
   "cell_type": "markdown",
   "metadata": {},
   "source": [
    "We can also visualize the problem"
   ]
  },
  {
   "cell_type": "code",
   "execution_count": 36,
   "metadata": {},
   "outputs": [],
   "source": [
    "import matplotlib.pyplot as plt"
   ]
  },
  {
   "cell_type": "code",
   "execution_count": 41,
   "metadata": {},
   "outputs": [
    {
     "data": {
      "image/png": "[encoded data removed]",
      "text/plain": [
       "<Figure size 432x288 with 1 Axes>"
      ]
     },
     "metadata": {
      "needs_background": "light"
     },
     "output_type": "display_data"
    }
   ],
   "source": [
    "fig,ax=plt.subplots()\n",
    "xx=np.linspace(x.min(),x.max(),100) # supersampled [x[0],x[-1]] interval for plotting\n",
    "ax.plot(xx,p(xx),'b',lw=2,label='polymomial interp.')\n",
    "ax.plot(x,y,'ro',label='data points')\n",
    "ax.legend(loc='best')\n",
    "plt.show()"
   ]
  },
  {
   "cell_type": "markdown",
   "metadata": {},
   "source": [
    "Numpy's polynomial class actually provides a method **fit** to compute the interpolation polynomial"
   ]
  },
  {
   "cell_type": "code",
   "execution_count": 42,
   "metadata": {},
   "outputs": [],
   "source": [
    "pp=P.Polynomial.fit(x,y,deg,[-1,1])"
   ]
  },
  {
   "cell_type": "code",
   "execution_count": 43,
   "metadata": {},
   "outputs": [
    {
     "data": {
      "text/plain": [
       "array([ 2. , -3.5,  3. , -0.5])"
      ]
     },
     "execution_count": 43,
     "metadata": {},
     "output_type": "execute_result"
    }
   ],
   "source": [
    "pp.coef # same as c computed from our method"
   ]
  },
  {
   "cell_type": "markdown",
   "metadata": {},
   "source": [
    "## Drawbacks\n",
    "\n",
    "* poly interp for a few data points is powerful\n",
    "* increasing the number of data points increases the degree of the polynomial\n",
    "* higher degree polynomial can be problematic in several ways:\n",
    " 1. computationally more expensive to both determine and evaluate a high degree polynomial\n",
    " 2. high degree polynomial is oscillatory: changes rapidly between data points (well-known Runge's phenominon)  \n",
    " \n",
    " \n",
    "<font color='blue'>**Example** </font>: \n",
    "Consider the nth order interpolation using (n+1) equally spaced data points for the Runge's function\n",
    "$$\n",
    "f(x)=\\frac{1}{1+25x^2}, ~x\\in[-1,1]\n",
    "$$"
   ]
  },
  {
   "cell_type": "code",
   "execution_count": 44,
   "metadata": {},
   "outputs": [],
   "source": [
    "runge =lambda x: 1/(1+25*x**2) # define the Runge function \n",
    "\n",
    "def runge_interpolate(n):\n",
    "    x = np.linspace(-1,1,n+1) # create equally spaced sample data points\n",
    "    # find the degree n interpolating polynomial for the sample data points (x,runge(x))\n",
    "    p = P.Polynomial.fit(x,runge(x),n) \n",
    "    return x, p"
   ]
  },
  {
   "cell_type": "code",
   "execution_count": 48,
   "metadata": {},
   "outputs": [
    {
     "data": {
      "image/png": "[encoded data removed]",
      "text/plain": [
       "<Figure size 432x288 with 1 Axes>"
      ]
     },
     "metadata": {
      "needs_background": "light"
     },
     "output_type": "display_data"
    }
   ],
   "source": [
    "xx = np.linspace(-1,1,250) # over-sampling for plotting\n",
    "fig,ax=plt.subplots()\n",
    "ax.plot(xx,runge(xx),'k',lw=2,label=\"Runge's function\")\n",
    "# 13 th order interpolation of the Runge's function\n",
    "n=13\n",
    "x,p=runge_interpolate(n)\n",
    "ax.plot(x,runge(x),'ro') # plot the data points\n",
    "ax.plot(xx,p(xx),'r',label='interp. order %d' %n)\n",
    "# 14 th order interpolation of the Runge's function\n",
    "n=14\n",
    "x,p=runge_interpolate(n)\n",
    "ax.plot(x,runge(x),'bo') # plot the data points\n",
    "ax.plot(xx,p(xx),'b',label='interp. order %d' %n)\n",
    "\n",
    "ax.legend(loc='best')\n",
    "plt.show()"
   ]
  },
  {
   "cell_type": "markdown",
   "metadata": {},
   "source": [
    "A solution to this is to use piecewise low-order polynomials when interpolating a larger number of data points, i.e., \n",
    "**Spline Interpolation** "
   ]
  },
  {
   "cell_type": "code",
   "execution_count": null,
   "metadata": {},
   "outputs": [],
   "source": []
  }
 ],
 "metadata": {
  "kernelspec": {
   "display_name": "Python 3",
   "language": "python",
   "name": "python3"
  },
  "language_info": {
   "codemirror_mode": {
    "name": "ipython",
    "version": 3
   },
   "file_extension": ".py",
   "mimetype": "text/x-python",
   "name": "python",
   "nbconvert_exporter": "python",
   "pygments_lexer": "ipython3",
   "version": "3.7.3"
  }
 },
 "nbformat": 4,
 "nbformat_minor": 2
}
