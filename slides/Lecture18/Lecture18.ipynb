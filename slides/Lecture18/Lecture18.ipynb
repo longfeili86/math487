{
 "cells": [
  {
   "cell_type": "markdown",
   "metadata": {},
   "source": [
    "# Lecture 18"
   ]
  },
  {
   "cell_type": "markdown",
   "metadata": {},
   "source": [
    "## This lecture\n",
    "\n",
    "Continue introduce basic features and usage of the **pandas** library\n",
    "\n",
    "## Time series\n",
    "\n",
    "* Time series are a common form of data in which a quantity is given at regularly or irregularly timestamps (eg. stock prices, temperature recordings, etc.)\n",
    "* `pandas` provides `DatetimeIndex` and `PeriodIndex` to carry out many common date, time, period and calender operations\n"
   ]
  },
  {
   "cell_type": "code",
   "execution_count": 1,
   "metadata": {},
   "outputs": [],
   "source": [
    "# import module\n",
    "import pandas as pd\n",
    "# for some examples, we also need numpy and matplotlib\n",
    "import numpy as np\n",
    "import matplotlib.pyplot as plt\n"
   ]
  },
  {
   "cell_type": "code",
   "execution_count": 2,
   "metadata": {},
   "outputs": [],
   "source": [
    "import datetime"
   ]
  },
  {
   "cell_type": "code",
   "execution_count": 3,
   "metadata": {},
   "outputs": [
    {
     "data": {
      "text/plain": [
       "DatetimeIndex(['2019-12-01', '2019-12-02', '2019-12-03', '2019-12-04',\n",
       "               '2019-12-05', '2019-12-06', '2019-12-07', '2019-12-08',\n",
       "               '2019-12-09', '2019-12-10', '2019-12-11', '2019-12-12',\n",
       "               '2019-12-13', '2019-12-14', '2019-12-15', '2019-12-16',\n",
       "               '2019-12-17', '2019-12-18', '2019-12-19', '2019-12-20',\n",
       "               '2019-12-21', '2019-12-22', '2019-12-23', '2019-12-24',\n",
       "               '2019-12-25', '2019-12-26', '2019-12-27', '2019-12-28',\n",
       "               '2019-12-29', '2019-12-30', '2019-12-31'],\n",
       "              dtype='datetime64[ns]', freq='D')"
      ]
     },
     "execution_count": 3,
     "metadata": {},
     "output_type": "execute_result"
    }
   ],
   "source": [
    "pd.date_range(\"2019-12-1\", periods=31)"
   ]
  },
  {
   "cell_type": "code",
   "execution_count": 5,
   "metadata": {},
   "outputs": [
    {
     "data": {
      "text/plain": [
       "DatetimeIndex(['2019-11-20 00:00:00', '2019-11-20 01:00:00',\n",
       "               '2019-11-20 02:00:00', '2019-11-20 03:00:00',\n",
       "               '2019-11-20 04:00:00', '2019-11-20 05:00:00',\n",
       "               '2019-11-20 06:00:00', '2019-11-20 07:00:00',\n",
       "               '2019-11-20 08:00:00', '2019-11-20 09:00:00',\n",
       "               '2019-11-20 10:00:00', '2019-11-20 11:00:00',\n",
       "               '2019-11-20 12:00:00'],\n",
       "              dtype='datetime64[ns]', freq='H')"
      ]
     },
     "execution_count": 5,
     "metadata": {},
     "output_type": "execute_result"
    }
   ],
   "source": [
    "pd.date_range(\"2019-11-20 00:00\", \"2019-11-20 12:00\", freq=\"H\")"
   ]
  },
  {
   "cell_type": "markdown",
   "metadata": {},
   "source": [
    "The `date_range` function returns a DatetimeIndex object, which can be used as an index for a `Series` or `DataFrame` object"
   ]
  },
  {
   "cell_type": "code",
   "execution_count": 6,
   "metadata": {},
   "outputs": [],
   "source": [
    "ts1 = pd.Series(np.arange(31))"
   ]
  },
  {
   "cell_type": "code",
   "execution_count": 7,
   "metadata": {},
   "outputs": [
    {
     "data": {
      "text/plain": [
       "0    0\n",
       "1    1\n",
       "2    2\n",
       "3    3\n",
       "4    4\n",
       "dtype: int64"
      ]
     },
     "execution_count": 7,
     "metadata": {},
     "output_type": "execute_result"
    }
   ],
   "source": [
    "ts1.head()"
   ]
  },
  {
   "cell_type": "code",
   "execution_count": 8,
   "metadata": {},
   "outputs": [],
   "source": [
    "ts1.index=pd.date_range(\"2019-11-20\", periods=31)"
   ]
  },
  {
   "cell_type": "code",
   "execution_count": 9,
   "metadata": {},
   "outputs": [
    {
     "data": {
      "text/plain": [
       "2019-11-20     0\n",
       "2019-11-21     1\n",
       "2019-11-22     2\n",
       "2019-11-23     3\n",
       "2019-11-24     4\n",
       "2019-11-25     5\n",
       "2019-11-26     6\n",
       "2019-11-27     7\n",
       "2019-11-28     8\n",
       "2019-11-29     9\n",
       "2019-11-30    10\n",
       "2019-12-01    11\n",
       "2019-12-02    12\n",
       "2019-12-03    13\n",
       "2019-12-04    14\n",
       "2019-12-05    15\n",
       "2019-12-06    16\n",
       "2019-12-07    17\n",
       "2019-12-08    18\n",
       "2019-12-09    19\n",
       "2019-12-10    20\n",
       "2019-12-11    21\n",
       "2019-12-12    22\n",
       "2019-12-13    23\n",
       "2019-12-14    24\n",
       "2019-12-15    25\n",
       "2019-12-16    26\n",
       "2019-12-17    27\n",
       "2019-12-18    28\n",
       "2019-12-19    29\n",
       "2019-12-20    30\n",
       "Freq: D, dtype: int64"
      ]
     },
     "execution_count": 9,
     "metadata": {},
     "output_type": "execute_result"
    }
   ],
   "source": [
    "ts1"
   ]
  },
  {
   "cell_type": "code",
   "execution_count": 10,
   "metadata": {},
   "outputs": [
    {
     "data": {
      "text/plain": [
       "10"
      ]
     },
     "execution_count": 10,
     "metadata": {},
     "output_type": "execute_result"
    }
   ],
   "source": [
    "ts1[\"2019-11-30\"]"
   ]
  },
  {
   "cell_type": "code",
   "execution_count": 11,
   "metadata": {},
   "outputs": [
    {
     "data": {
      "text/plain": [
       "Timestamp('2019-11-22 00:00:00', freq='D')"
      ]
     },
     "execution_count": 11,
     "metadata": {},
     "output_type": "execute_result"
    }
   ],
   "source": [
    "ts1.index[2]"
   ]
  },
  {
   "cell_type": "markdown",
   "metadata": {},
   "source": [
    "### Temperature time series example"
   ]
  },
  {
   "cell_type": "code",
   "execution_count": 12,
   "metadata": {},
   "outputs": [],
   "source": [
    "df1 = pd.read_csv('temperature_outdoor_2014.tsv', delimiter=\"\\t\", names=[\"time\", \"outdoor\"])"
   ]
  },
  {
   "cell_type": "code",
   "execution_count": 13,
   "metadata": {},
   "outputs": [],
   "source": [
    "df2 = pd.read_csv('temperature_indoor_2014.tsv', delimiter=\"\\t\", names=[\"time\", \"indoor\"])"
   ]
  },
  {
   "cell_type": "code",
   "execution_count": 14,
   "metadata": {},
   "outputs": [
    {
     "data": {
      "text/html": [
       "<div>\n",
       "<style scoped>\n",
       "    .dataframe tbody tr th:only-of-type {\n",
       "        vertical-align: middle;\n",
       "    }\n",
       "\n",
       "    .dataframe tbody tr th {\n",
       "        vertical-align: top;\n",
       "    }\n",
       "\n",
       "    .dataframe thead th {\n",
       "        text-align: right;\n",
       "    }\n",
       "</style>\n",
       "<table border=\"1\" class=\"dataframe\">\n",
       "  <thead>\n",
       "    <tr style=\"text-align: right;\">\n",
       "      <th></th>\n",
       "      <th>time</th>\n",
       "      <th>outdoor</th>\n",
       "    </tr>\n",
       "  </thead>\n",
       "  <tbody>\n",
       "    <tr>\n",
       "      <th>0</th>\n",
       "      <td>1388530986</td>\n",
       "      <td>4.38</td>\n",
       "    </tr>\n",
       "    <tr>\n",
       "      <th>1</th>\n",
       "      <td>1388531586</td>\n",
       "      <td>4.25</td>\n",
       "    </tr>\n",
       "    <tr>\n",
       "      <th>2</th>\n",
       "      <td>1388532187</td>\n",
       "      <td>4.19</td>\n",
       "    </tr>\n",
       "    <tr>\n",
       "      <th>3</th>\n",
       "      <td>1388532787</td>\n",
       "      <td>4.06</td>\n",
       "    </tr>\n",
       "    <tr>\n",
       "      <th>4</th>\n",
       "      <td>1388533388</td>\n",
       "      <td>4.06</td>\n",
       "    </tr>\n",
       "  </tbody>\n",
       "</table>\n",
       "</div>"
      ],
      "text/plain": [
       "         time  outdoor\n",
       "0  1388530986     4.38\n",
       "1  1388531586     4.25\n",
       "2  1388532187     4.19\n",
       "3  1388532787     4.06\n",
       "4  1388533388     4.06"
      ]
     },
     "execution_count": 14,
     "metadata": {},
     "output_type": "execute_result"
    }
   ],
   "source": [
    "df1.head()"
   ]
  },
  {
   "cell_type": "code",
   "execution_count": 15,
   "metadata": {},
   "outputs": [
    {
     "data": {
      "text/html": [
       "<div>\n",
       "<style scoped>\n",
       "    .dataframe tbody tr th:only-of-type {\n",
       "        vertical-align: middle;\n",
       "    }\n",
       "\n",
       "    .dataframe tbody tr th {\n",
       "        vertical-align: top;\n",
       "    }\n",
       "\n",
       "    .dataframe thead th {\n",
       "        text-align: right;\n",
       "    }\n",
       "</style>\n",
       "<table border=\"1\" class=\"dataframe\">\n",
       "  <thead>\n",
       "    <tr style=\"text-align: right;\">\n",
       "      <th></th>\n",
       "      <th>time</th>\n",
       "      <th>indoor</th>\n",
       "    </tr>\n",
       "  </thead>\n",
       "  <tbody>\n",
       "    <tr>\n",
       "      <th>0</th>\n",
       "      <td>1388530986</td>\n",
       "      <td>21.94</td>\n",
       "    </tr>\n",
       "    <tr>\n",
       "      <th>1</th>\n",
       "      <td>1388531586</td>\n",
       "      <td>22.00</td>\n",
       "    </tr>\n",
       "    <tr>\n",
       "      <th>2</th>\n",
       "      <td>1388532187</td>\n",
       "      <td>22.00</td>\n",
       "    </tr>\n",
       "    <tr>\n",
       "      <th>3</th>\n",
       "      <td>1388532787</td>\n",
       "      <td>22.00</td>\n",
       "    </tr>\n",
       "    <tr>\n",
       "      <th>4</th>\n",
       "      <td>1388533388</td>\n",
       "      <td>22.00</td>\n",
       "    </tr>\n",
       "  </tbody>\n",
       "</table>\n",
       "</div>"
      ],
      "text/plain": [
       "         time  indoor\n",
       "0  1388530986   21.94\n",
       "1  1388531586   22.00\n",
       "2  1388532187   22.00\n",
       "3  1388532787   22.00\n",
       "4  1388533388   22.00"
      ]
     },
     "execution_count": 15,
     "metadata": {},
     "output_type": "execute_result"
    }
   ],
   "source": [
    "df2.head()"
   ]
  },
  {
   "cell_type": "markdown",
   "metadata": {},
   "source": [
    "The time in the raw data was represented in UNIX timestamp. We want to convert it to date and time object using `to_datetime`"
   ]
  },
  {
   "cell_type": "code",
   "execution_count": 16,
   "metadata": {},
   "outputs": [],
   "source": [
    "df1.time = (pd.to_datetime(df1.time.values, unit=\"s\")\n",
    "              .tz_localize('UTC').tz_convert('Europe/Stockholm')) # set unit:s, timezone 'Europe/Stockholm'"
   ]
  },
  {
   "cell_type": "code",
   "execution_count": 17,
   "metadata": {},
   "outputs": [],
   "source": [
    "df1 = df1.set_index(\"time\") # use time as index"
   ]
  },
  {
   "cell_type": "code",
   "execution_count": 18,
   "metadata": {},
   "outputs": [],
   "source": [
    "df2.time = (pd.to_datetime(df2.time.values, unit=\"s\")\n",
    "              .tz_localize('UTC').tz_convert('Europe/Stockholm'))"
   ]
  },
  {
   "cell_type": "code",
   "execution_count": 19,
   "metadata": {},
   "outputs": [],
   "source": [
    "df2 = df2.set_index(\"time\")"
   ]
  },
  {
   "cell_type": "code",
   "execution_count": 20,
   "metadata": {},
   "outputs": [
    {
     "data": {
      "text/html": [
       "<div>\n",
       "<style scoped>\n",
       "    .dataframe tbody tr th:only-of-type {\n",
       "        vertical-align: middle;\n",
       "    }\n",
       "\n",
       "    .dataframe tbody tr th {\n",
       "        vertical-align: top;\n",
       "    }\n",
       "\n",
       "    .dataframe thead th {\n",
       "        text-align: right;\n",
       "    }\n",
       "</style>\n",
       "<table border=\"1\" class=\"dataframe\">\n",
       "  <thead>\n",
       "    <tr style=\"text-align: right;\">\n",
       "      <th></th>\n",
       "      <th>outdoor</th>\n",
       "    </tr>\n",
       "    <tr>\n",
       "      <th>time</th>\n",
       "      <th></th>\n",
       "    </tr>\n",
       "  </thead>\n",
       "  <tbody>\n",
       "    <tr>\n",
       "      <th>2014-01-01 00:03:06+01:00</th>\n",
       "      <td>4.38</td>\n",
       "    </tr>\n",
       "    <tr>\n",
       "      <th>2014-01-01 00:13:06+01:00</th>\n",
       "      <td>4.25</td>\n",
       "    </tr>\n",
       "    <tr>\n",
       "      <th>2014-01-01 00:23:07+01:00</th>\n",
       "      <td>4.19</td>\n",
       "    </tr>\n",
       "    <tr>\n",
       "      <th>2014-01-01 00:33:07+01:00</th>\n",
       "      <td>4.06</td>\n",
       "    </tr>\n",
       "    <tr>\n",
       "      <th>2014-01-01 00:43:08+01:00</th>\n",
       "      <td>4.06</td>\n",
       "    </tr>\n",
       "  </tbody>\n",
       "</table>\n",
       "</div>"
      ],
      "text/plain": [
       "                           outdoor\n",
       "time                              \n",
       "2014-01-01 00:03:06+01:00     4.38\n",
       "2014-01-01 00:13:06+01:00     4.25\n",
       "2014-01-01 00:23:07+01:00     4.19\n",
       "2014-01-01 00:33:07+01:00     4.06\n",
       "2014-01-01 00:43:08+01:00     4.06"
      ]
     },
     "execution_count": 20,
     "metadata": {},
     "output_type": "execute_result"
    }
   ],
   "source": [
    "df1.head()"
   ]
  },
  {
   "cell_type": "code",
   "execution_count": 21,
   "metadata": {},
   "outputs": [
    {
     "data": {
      "text/plain": [
       "Timestamp('2014-01-01 00:03:06+0100', tz='Europe/Stockholm')"
      ]
     },
     "execution_count": 21,
     "metadata": {},
     "output_type": "execute_result"
    }
   ],
   "source": [
    "df1.index[0]"
   ]
  },
  {
   "cell_type": "code",
   "execution_count": 23,
   "metadata": {},
   "outputs": [
    {
     "data": {
      "image/png": "[encoded data removed]",
      "text/plain": [
       "<Figure size 864x288 with 1 Axes>"
      ]
     },
     "metadata": {
      "needs_background": "light"
     },
     "output_type": "display_data"
    }
   ],
   "source": [
    "fig, ax = plt.subplots(1, 1, figsize=(12, 4))\n",
    "df1.plot(ax=ax)\n",
    "df2.plot(ax=ax)\n",
    "\n",
    "fig.tight_layout()\n",
    "plt.show()\n"
   ]
  },
  {
   "cell_type": "markdown",
   "metadata": {},
   "source": [
    "Display the info of the dataFrame object"
   ]
  },
  {
   "cell_type": "code",
   "execution_count": 24,
   "metadata": {},
   "outputs": [
    {
     "name": "stdout",
     "output_type": "stream",
     "text": [
      "<class 'pandas.core.frame.DataFrame'>\n",
      "DatetimeIndex: 49548 entries, 2014-01-01 00:03:06+01:00 to 2014-12-30 23:56:35+01:00\n",
      "Data columns (total 1 columns):\n",
      "outdoor    49548 non-null float64\n",
      "dtypes: float64(1)\n",
      "memory usage: 774.2 KB\n"
     ]
    }
   ],
   "source": [
    "df1.info()"
   ]
  },
  {
   "cell_type": "markdown",
   "metadata": {},
   "source": [
    "**Select the data for January**"
   ]
  },
  {
   "cell_type": "code",
   "execution_count": 25,
   "metadata": {},
   "outputs": [],
   "source": [
    "df1_jan = df1[(df1.index > \"2014-1-1\") & (df1.index < \"2014-2-1\")]"
   ]
  },
  {
   "cell_type": "code",
   "execution_count": 26,
   "metadata": {},
   "outputs": [
    {
     "data": {
      "text/plain": [
       "array([ True,  True,  True, ..., False, False, False])"
      ]
     },
     "execution_count": 26,
     "metadata": {},
     "output_type": "execute_result"
    }
   ],
   "source": [
    "df1.index < \"2014-2-1\" # boolean index"
   ]
  },
  {
   "cell_type": "code",
   "execution_count": 27,
   "metadata": {},
   "outputs": [
    {
     "name": "stdout",
     "output_type": "stream",
     "text": [
      "<class 'pandas.core.frame.DataFrame'>\n",
      "DatetimeIndex: 4452 entries, 2014-01-01 00:03:06+01:00 to 2014-01-31 23:56:58+01:00\n",
      "Data columns (total 1 columns):\n",
      "outdoor    4452 non-null float64\n",
      "dtypes: float64(1)\n",
      "memory usage: 69.6 KB\n"
     ]
    }
   ],
   "source": [
    "df1_jan.info()"
   ]
  },
  {
   "cell_type": "code",
   "execution_count": 29,
   "metadata": {},
   "outputs": [],
   "source": [
    "df2_jan = df2[\"2014-1-1\":\"2014-1-31\"] # another way of selecting data"
   ]
  },
  {
   "cell_type": "code",
   "execution_count": 30,
   "metadata": {},
   "outputs": [
    {
     "data": {
      "image/png": "[encoded data removed]",
      "text/plain": [
       "<Figure size 864x288 with 1 Axes>"
      ]
     },
     "metadata": {
      "needs_background": "light"
     },
     "output_type": "display_data"
    }
   ],
   "source": [
    "fig, ax = plt.subplots(1, 1, figsize=(12, 4))\n",
    "\n",
    "df1_jan.plot(ax=ax)\n",
    "df2_jan.plot(ax=ax)\n",
    "\n",
    "fig.tight_layout()\n",
    "\n",
    "plt.show()\n"
   ]
  },
  {
   "cell_type": "markdown",
   "metadata": {
    "collapsed": true
   },
   "source": [
    "### group by month"
   ]
  },
  {
   "cell_type": "code",
   "execution_count": 31,
   "metadata": {},
   "outputs": [],
   "source": [
    "df1_month = df1.reset_index()"
   ]
  },
  {
   "cell_type": "code",
   "execution_count": 32,
   "metadata": {},
   "outputs": [],
   "source": [
    "df1_month[\"month\"] = df1_month.time.apply(lambda x: x.month)"
   ]
  },
  {
   "cell_type": "code",
   "execution_count": 34,
   "metadata": {},
   "outputs": [
    {
     "data": {
      "text/html": [
       "<div>\n",
       "<style scoped>\n",
       "    .dataframe tbody tr th:only-of-type {\n",
       "        vertical-align: middle;\n",
       "    }\n",
       "\n",
       "    .dataframe tbody tr th {\n",
       "        vertical-align: top;\n",
       "    }\n",
       "\n",
       "    .dataframe thead th {\n",
       "        text-align: right;\n",
       "    }\n",
       "</style>\n",
       "<table border=\"1\" class=\"dataframe\">\n",
       "  <thead>\n",
       "    <tr style=\"text-align: right;\">\n",
       "      <th></th>\n",
       "      <th>time</th>\n",
       "      <th>outdoor</th>\n",
       "      <th>month</th>\n",
       "    </tr>\n",
       "  </thead>\n",
       "  <tbody>\n",
       "    <tr>\n",
       "      <th>0</th>\n",
       "      <td>2014-01-01 00:03:06+01:00</td>\n",
       "      <td>4.38</td>\n",
       "      <td>1</td>\n",
       "    </tr>\n",
       "    <tr>\n",
       "      <th>1</th>\n",
       "      <td>2014-01-01 00:13:06+01:00</td>\n",
       "      <td>4.25</td>\n",
       "      <td>1</td>\n",
       "    </tr>\n",
       "    <tr>\n",
       "      <th>2</th>\n",
       "      <td>2014-01-01 00:23:07+01:00</td>\n",
       "      <td>4.19</td>\n",
       "      <td>1</td>\n",
       "    </tr>\n",
       "    <tr>\n",
       "      <th>3</th>\n",
       "      <td>2014-01-01 00:33:07+01:00</td>\n",
       "      <td>4.06</td>\n",
       "      <td>1</td>\n",
       "    </tr>\n",
       "    <tr>\n",
       "      <th>4</th>\n",
       "      <td>2014-01-01 00:43:08+01:00</td>\n",
       "      <td>4.06</td>\n",
       "      <td>1</td>\n",
       "    </tr>\n",
       "  </tbody>\n",
       "</table>\n",
       "</div>"
      ],
      "text/plain": [
       "                       time  outdoor  month\n",
       "0 2014-01-01 00:03:06+01:00     4.38      1\n",
       "1 2014-01-01 00:13:06+01:00     4.25      1\n",
       "2 2014-01-01 00:23:07+01:00     4.19      1\n",
       "3 2014-01-01 00:33:07+01:00     4.06      1\n",
       "4 2014-01-01 00:43:08+01:00     4.06      1"
      ]
     },
     "execution_count": 34,
     "metadata": {},
     "output_type": "execute_result"
    }
   ],
   "source": [
    "df1_month.head()"
   ]
  },
  {
   "cell_type": "code",
   "execution_count": 35,
   "metadata": {},
   "outputs": [],
   "source": [
    "df1_month = df1_month.groupby(\"month\").aggregate(np.mean)"
   ]
  },
  {
   "cell_type": "code",
   "execution_count": 36,
   "metadata": {},
   "outputs": [],
   "source": [
    "df2_month = df2.reset_index()"
   ]
  },
  {
   "cell_type": "code",
   "execution_count": 37,
   "metadata": {},
   "outputs": [],
   "source": [
    "df2_month[\"month\"] = df2_month.time.apply(lambda x: x.month)"
   ]
  },
  {
   "cell_type": "code",
   "execution_count": 38,
   "metadata": {},
   "outputs": [],
   "source": [
    "df2_month = df2_month.groupby(\"month\").aggregate(np.mean)"
   ]
  },
  {
   "cell_type": "code",
   "execution_count": 39,
   "metadata": {},
   "outputs": [],
   "source": [
    "df_month = df1_month.join(df2_month)"
   ]
  },
  {
   "cell_type": "code",
   "execution_count": 47,
   "metadata": {},
   "outputs": [
    {
     "data": {
      "text/html": [
       "<div>\n",
       "<style scoped>\n",
       "    .dataframe tbody tr th:only-of-type {\n",
       "        vertical-align: middle;\n",
       "    }\n",
       "\n",
       "    .dataframe tbody tr th {\n",
       "        vertical-align: top;\n",
       "    }\n",
       "\n",
       "    .dataframe thead th {\n",
       "        text-align: right;\n",
       "    }\n",
       "</style>\n",
       "<table border=\"1\" class=\"dataframe\">\n",
       "  <thead>\n",
       "    <tr style=\"text-align: right;\">\n",
       "      <th></th>\n",
       "      <th>outdoor</th>\n",
       "      <th>indoor</th>\n",
       "    </tr>\n",
       "    <tr>\n",
       "      <th>time</th>\n",
       "      <th></th>\n",
       "      <th></th>\n",
       "    </tr>\n",
       "  </thead>\n",
       "  <tbody>\n",
       "    <tr>\n",
       "      <th>2014-01</th>\n",
       "      <td>-1.776646</td>\n",
       "      <td>19.862590</td>\n",
       "    </tr>\n",
       "    <tr>\n",
       "      <th>2014-02</th>\n",
       "      <td>2.231613</td>\n",
       "      <td>20.231507</td>\n",
       "    </tr>\n",
       "    <tr>\n",
       "      <th>2014-03</th>\n",
       "      <td>4.615437</td>\n",
       "      <td>19.597748</td>\n",
       "    </tr>\n",
       "    <tr>\n",
       "      <th>2014-04</th>\n",
       "      <td>8.105193</td>\n",
       "      <td>22.149754</td>\n",
       "    </tr>\n",
       "    <tr>\n",
       "      <th>2014-05</th>\n",
       "      <td>12.261396</td>\n",
       "      <td>26.332160</td>\n",
       "    </tr>\n",
       "    <tr>\n",
       "      <th>2014-06</th>\n",
       "      <td>15.586955</td>\n",
       "      <td>28.687491</td>\n",
       "    </tr>\n",
       "    <tr>\n",
       "      <th>2014-07</th>\n",
       "      <td>20.780314</td>\n",
       "      <td>30.605333</td>\n",
       "    </tr>\n",
       "    <tr>\n",
       "      <th>2014-08</th>\n",
       "      <td>16.494823</td>\n",
       "      <td>28.099068</td>\n",
       "    </tr>\n",
       "    <tr>\n",
       "      <th>2014-09</th>\n",
       "      <td>12.823905</td>\n",
       "      <td>26.950366</td>\n",
       "    </tr>\n",
       "    <tr>\n",
       "      <th>2014-10</th>\n",
       "      <td>9.352000</td>\n",
       "      <td>23.379460</td>\n",
       "    </tr>\n",
       "    <tr>\n",
       "      <th>2014-11</th>\n",
       "      <td>4.992142</td>\n",
       "      <td>20.610365</td>\n",
       "    </tr>\n",
       "    <tr>\n",
       "      <th>2014-12</th>\n",
       "      <td>-0.058940</td>\n",
       "      <td>16.465674</td>\n",
       "    </tr>\n",
       "  </tbody>\n",
       "</table>\n",
       "</div>"
      ],
      "text/plain": [
       "           outdoor     indoor\n",
       "time                         \n",
       "2014-01  -1.776646  19.862590\n",
       "2014-02   2.231613  20.231507\n",
       "2014-03   4.615437  19.597748\n",
       "2014-04   8.105193  22.149754\n",
       "2014-05  12.261396  26.332160\n",
       "2014-06  15.586955  28.687491\n",
       "2014-07  20.780314  30.605333\n",
       "2014-08  16.494823  28.099068\n",
       "2014-09  12.823905  26.950366\n",
       "2014-10   9.352000  23.379460\n",
       "2014-11   4.992142  20.610365\n",
       "2014-12  -0.058940  16.465674"
      ]
     },
     "execution_count": 47,
     "metadata": {},
     "output_type": "execute_result"
    }
   ],
   "source": [
    "df_month"
   ]
  },
  {
   "cell_type": "code",
   "execution_count": 48,
   "metadata": {},
   "outputs": [],
   "source": [
    "df_month = pd.concat([df.to_period(\"M\").groupby(level=0).mean() for df in [df1, df2]], axis=1)"
   ]
  },
  {
   "cell_type": "code",
   "execution_count": 49,
   "metadata": {},
   "outputs": [
    {
     "data": {
      "text/html": [
       "<div>\n",
       "<style scoped>\n",
       "    .dataframe tbody tr th:only-of-type {\n",
       "        vertical-align: middle;\n",
       "    }\n",
       "\n",
       "    .dataframe tbody tr th {\n",
       "        vertical-align: top;\n",
       "    }\n",
       "\n",
       "    .dataframe thead th {\n",
       "        text-align: right;\n",
       "    }\n",
       "</style>\n",
       "<table border=\"1\" class=\"dataframe\">\n",
       "  <thead>\n",
       "    <tr style=\"text-align: right;\">\n",
       "      <th></th>\n",
       "      <th>outdoor</th>\n",
       "      <th>indoor</th>\n",
       "    </tr>\n",
       "    <tr>\n",
       "      <th>time</th>\n",
       "      <th></th>\n",
       "      <th></th>\n",
       "    </tr>\n",
       "  </thead>\n",
       "  <tbody>\n",
       "    <tr>\n",
       "      <th>2014-01</th>\n",
       "      <td>-1.776646</td>\n",
       "      <td>19.862590</td>\n",
       "    </tr>\n",
       "    <tr>\n",
       "      <th>2014-02</th>\n",
       "      <td>2.231613</td>\n",
       "      <td>20.231507</td>\n",
       "    </tr>\n",
       "    <tr>\n",
       "      <th>2014-03</th>\n",
       "      <td>4.615437</td>\n",
       "      <td>19.597748</td>\n",
       "    </tr>\n",
       "  </tbody>\n",
       "</table>\n",
       "</div>"
      ],
      "text/plain": [
       "          outdoor     indoor\n",
       "time                        \n",
       "2014-01 -1.776646  19.862590\n",
       "2014-02  2.231613  20.231507\n",
       "2014-03  4.615437  19.597748"
      ]
     },
     "execution_count": 49,
     "metadata": {},
     "output_type": "execute_result"
    }
   ],
   "source": [
    "df_month.head(3)"
   ]
  },
  {
   "cell_type": "code",
   "execution_count": 50,
   "metadata": {},
   "outputs": [
    {
     "data": {
      "image/png": "[encoded data removed]",
      "text/plain": [
       "<Figure size 864x288 with 2 Axes>"
      ]
     },
     "metadata": {
      "needs_background": "light"
     },
     "output_type": "display_data"
    }
   ],
   "source": [
    "fig, axes = plt.subplots(1, 2, figsize=(12, 4))\n",
    "\n",
    "df_month.plot(kind='bar', ax=axes[0])\n",
    "df_month.plot(kind='box', ax=axes[1])\n",
    "\n",
    "fig.tight_layout()\n",
    "plt.show()"
   ]
  },
  {
   "cell_type": "code",
   "execution_count": 51,
   "metadata": {},
   "outputs": [
    {
     "data": {
      "text/html": [
       "<div>\n",
       "<style scoped>\n",
       "    .dataframe tbody tr th:only-of-type {\n",
       "        vertical-align: middle;\n",
       "    }\n",
       "\n",
       "    .dataframe tbody tr th {\n",
       "        vertical-align: top;\n",
       "    }\n",
       "\n",
       "    .dataframe thead th {\n",
       "        text-align: right;\n",
       "    }\n",
       "</style>\n",
       "<table border=\"1\" class=\"dataframe\">\n",
       "  <thead>\n",
       "    <tr style=\"text-align: right;\">\n",
       "      <th></th>\n",
       "      <th>outdoor</th>\n",
       "      <th>indoor</th>\n",
       "    </tr>\n",
       "    <tr>\n",
       "      <th>time</th>\n",
       "      <th></th>\n",
       "      <th></th>\n",
       "    </tr>\n",
       "  </thead>\n",
       "  <tbody>\n",
       "    <tr>\n",
       "      <th>2014-01</th>\n",
       "      <td>-1.776646</td>\n",
       "      <td>19.862590</td>\n",
       "    </tr>\n",
       "    <tr>\n",
       "      <th>2014-02</th>\n",
       "      <td>2.231613</td>\n",
       "      <td>20.231507</td>\n",
       "    </tr>\n",
       "    <tr>\n",
       "      <th>2014-03</th>\n",
       "      <td>4.615437</td>\n",
       "      <td>19.597748</td>\n",
       "    </tr>\n",
       "    <tr>\n",
       "      <th>2014-04</th>\n",
       "      <td>8.105193</td>\n",
       "      <td>22.149754</td>\n",
       "    </tr>\n",
       "    <tr>\n",
       "      <th>2014-05</th>\n",
       "      <td>12.261396</td>\n",
       "      <td>26.332160</td>\n",
       "    </tr>\n",
       "    <tr>\n",
       "      <th>2014-06</th>\n",
       "      <td>15.586955</td>\n",
       "      <td>28.687491</td>\n",
       "    </tr>\n",
       "    <tr>\n",
       "      <th>2014-07</th>\n",
       "      <td>20.780314</td>\n",
       "      <td>30.605333</td>\n",
       "    </tr>\n",
       "    <tr>\n",
       "      <th>2014-08</th>\n",
       "      <td>16.494823</td>\n",
       "      <td>28.099068</td>\n",
       "    </tr>\n",
       "    <tr>\n",
       "      <th>2014-09</th>\n",
       "      <td>12.823905</td>\n",
       "      <td>26.950366</td>\n",
       "    </tr>\n",
       "    <tr>\n",
       "      <th>2014-10</th>\n",
       "      <td>9.352000</td>\n",
       "      <td>23.379460</td>\n",
       "    </tr>\n",
       "    <tr>\n",
       "      <th>2014-11</th>\n",
       "      <td>4.992142</td>\n",
       "      <td>20.610365</td>\n",
       "    </tr>\n",
       "    <tr>\n",
       "      <th>2014-12</th>\n",
       "      <td>-0.058940</td>\n",
       "      <td>16.465674</td>\n",
       "    </tr>\n",
       "  </tbody>\n",
       "</table>\n",
       "</div>"
      ],
      "text/plain": [
       "           outdoor     indoor\n",
       "time                         \n",
       "2014-01  -1.776646  19.862590\n",
       "2014-02   2.231613  20.231507\n",
       "2014-03   4.615437  19.597748\n",
       "2014-04   8.105193  22.149754\n",
       "2014-05  12.261396  26.332160\n",
       "2014-06  15.586955  28.687491\n",
       "2014-07  20.780314  30.605333\n",
       "2014-08  16.494823  28.099068\n",
       "2014-09  12.823905  26.950366\n",
       "2014-10   9.352000  23.379460\n",
       "2014-11   4.992142  20.610365\n",
       "2014-12  -0.058940  16.465674"
      ]
     },
     "execution_count": 51,
     "metadata": {},
     "output_type": "execute_result"
    }
   ],
   "source": [
    "df_month"
   ]
  },
  {
   "cell_type": "code",
   "execution_count": 52,
   "metadata": {},
   "outputs": [],
   "source": [
    "# resampling"
   ]
  },
  {
   "cell_type": "code",
   "execution_count": 53,
   "metadata": {},
   "outputs": [],
   "source": [
    "df1_hour = df1.resample(\"H\").mean()"
   ]
  },
  {
   "cell_type": "code",
   "execution_count": 54,
   "metadata": {},
   "outputs": [],
   "source": [
    "df1_hour.columns = [\"outdoor (hourly avg.)\"]"
   ]
  },
  {
   "cell_type": "code",
   "execution_count": 55,
   "metadata": {},
   "outputs": [],
   "source": [
    "df1_day = df1.resample(\"D\").mean()"
   ]
  },
  {
   "cell_type": "code",
   "execution_count": 56,
   "metadata": {},
   "outputs": [],
   "source": [
    "df1_day.columns = [\"outdoor (daily avg.)\"]"
   ]
  },
  {
   "cell_type": "code",
   "execution_count": 57,
   "metadata": {},
   "outputs": [],
   "source": [
    "df1_week = df1.resample(\"7D\").mean()"
   ]
  },
  {
   "cell_type": "code",
   "execution_count": 58,
   "metadata": {},
   "outputs": [],
   "source": [
    "df1_week.columns = [\"outdoor (weekly avg.)\"]"
   ]
  },
  {
   "cell_type": "code",
   "execution_count": 59,
   "metadata": {},
   "outputs": [],
   "source": [
    "df1_month = df1.resample(\"M\").mean()"
   ]
  },
  {
   "cell_type": "code",
   "execution_count": 60,
   "metadata": {},
   "outputs": [],
   "source": [
    "df1_month.columns = [\"outdoor (monthly avg.)\"]"
   ]
  },
  {
   "cell_type": "code",
   "execution_count": 65,
   "metadata": {},
   "outputs": [],
   "source": [
    "df_diff = (df1.resample(\"D\").mean().outdoor - df2.resample(\"D\").mean().indoor)"
   ]
  },
  {
   "cell_type": "code",
   "execution_count": 68,
   "metadata": {},
   "outputs": [
    {
     "data": {
      "image/png": "[encoded data removed]",
      "text/plain": [
       "<Figure size 864x432 with 2 Axes>"
      ]
     },
     "metadata": {
      "needs_background": "light"
     },
     "output_type": "display_data"
    }
   ],
   "source": [
    "fig, (ax1, ax2) = plt.subplots(2, 1, figsize=(12, 6))\n",
    "\n",
    "df1_hour.plot(ax=ax1, alpha=0.25)\n",
    "df1_day.plot(ax=ax1)\n",
    "df1_week.plot(ax=ax1)\n",
    "df1_month.plot(ax=ax1)\n",
    "\n",
    "df_diff.plot(ax=ax2)\n",
    "ax2.set_title(\"temperature difference between outdoor and indoor\")\n",
    "\n",
    "fig.tight_layout()\n",
    "plt.show()"
   ]
  },
  {
   "cell_type": "code",
   "execution_count": 70,
   "metadata": {},
   "outputs": [
    {
     "data": {
      "text/html": [
       "<div>\n",
       "<style scoped>\n",
       "    .dataframe tbody tr th:only-of-type {\n",
       "        vertical-align: middle;\n",
       "    }\n",
       "\n",
       "    .dataframe tbody tr th {\n",
       "        vertical-align: top;\n",
       "    }\n",
       "\n",
       "    .dataframe thead th {\n",
       "        text-align: right;\n",
       "    }\n",
       "</style>\n",
       "<table border=\"1\" class=\"dataframe\">\n",
       "  <thead>\n",
       "    <tr style=\"text-align: right;\">\n",
       "      <th></th>\n",
       "      <th>None</th>\n",
       "      <th>ffill</th>\n",
       "      <th>bfill</th>\n",
       "    </tr>\n",
       "    <tr>\n",
       "      <th>time</th>\n",
       "      <th></th>\n",
       "      <th></th>\n",
       "      <th></th>\n",
       "    </tr>\n",
       "  </thead>\n",
       "  <tbody>\n",
       "    <tr>\n",
       "      <th>2014-01-01 00:00:00+01:00</th>\n",
       "      <td>4.38</td>\n",
       "      <td>NaN</td>\n",
       "      <td>4.38</td>\n",
       "    </tr>\n",
       "    <tr>\n",
       "      <th>2014-01-01 00:05:00+01:00</th>\n",
       "      <td>NaN</td>\n",
       "      <td>4.38</td>\n",
       "      <td>4.25</td>\n",
       "    </tr>\n",
       "    <tr>\n",
       "      <th>2014-01-01 00:10:00+01:00</th>\n",
       "      <td>4.25</td>\n",
       "      <td>4.38</td>\n",
       "      <td>4.25</td>\n",
       "    </tr>\n",
       "    <tr>\n",
       "      <th>2014-01-01 00:15:00+01:00</th>\n",
       "      <td>NaN</td>\n",
       "      <td>4.25</td>\n",
       "      <td>4.19</td>\n",
       "    </tr>\n",
       "    <tr>\n",
       "      <th>2014-01-01 00:20:00+01:00</th>\n",
       "      <td>4.19</td>\n",
       "      <td>4.25</td>\n",
       "      <td>4.19</td>\n",
       "    </tr>\n",
       "  </tbody>\n",
       "</table>\n",
       "</div>"
      ],
      "text/plain": [
       "                           None  ffill  bfill\n",
       "time                                         \n",
       "2014-01-01 00:00:00+01:00  4.38    NaN   4.38\n",
       "2014-01-01 00:05:00+01:00   NaN   4.38   4.25\n",
       "2014-01-01 00:10:00+01:00  4.25   4.38   4.25\n",
       "2014-01-01 00:15:00+01:00   NaN   4.25   4.19\n",
       "2014-01-01 00:20:00+01:00  4.19   4.25   4.19"
      ]
     },
     "execution_count": 70,
     "metadata": {},
     "output_type": "execute_result"
    }
   ],
   "source": [
    "pd.concat([df1.resample(\"5min\").mean().rename(columns={\"outdoor\": 'None'}),\n",
    "           df1.resample(\"5min\").ffill().rename(columns={\"outdoor\": 'ffill'}),\n",
    "           df1.resample(\"5min\").bfill().rename(columns={\"outdoor\": 'bfill'})], axis=1).head()"
   ]
  },
  {
   "cell_type": "markdown",
   "metadata": {},
   "source": [
    "## Selected day"
   ]
  },
  {
   "cell_type": "code",
   "execution_count": 71,
   "metadata": {},
   "outputs": [],
   "source": [
    "df1_dec25 = df1[(df1.index < \"2014-9-1\") & (df1.index >= \"2014-8-1\")].resample(\"D\")"
   ]
  },
  {
   "cell_type": "code",
   "execution_count": 73,
   "metadata": {},
   "outputs": [],
   "source": [
    "df1_dec25 = df1.loc[\"2014-12-25\"]"
   ]
  },
  {
   "cell_type": "code",
   "execution_count": 74,
   "metadata": {},
   "outputs": [
    {
     "data": {
      "text/html": [
       "<div>\n",
       "<style scoped>\n",
       "    .dataframe tbody tr th:only-of-type {\n",
       "        vertical-align: middle;\n",
       "    }\n",
       "\n",
       "    .dataframe tbody tr th {\n",
       "        vertical-align: top;\n",
       "    }\n",
       "\n",
       "    .dataframe thead th {\n",
       "        text-align: right;\n",
       "    }\n",
       "</style>\n",
       "<table border=\"1\" class=\"dataframe\">\n",
       "  <thead>\n",
       "    <tr style=\"text-align: right;\">\n",
       "      <th></th>\n",
       "      <th>outdoor</th>\n",
       "    </tr>\n",
       "    <tr>\n",
       "      <th>time</th>\n",
       "      <th></th>\n",
       "    </tr>\n",
       "  </thead>\n",
       "  <tbody>\n",
       "    <tr>\n",
       "      <th>2014-12-25 00:01:45+01:00</th>\n",
       "      <td>-4.88</td>\n",
       "    </tr>\n",
       "    <tr>\n",
       "      <th>2014-12-25 00:11:45+01:00</th>\n",
       "      <td>-4.94</td>\n",
       "    </tr>\n",
       "    <tr>\n",
       "      <th>2014-12-25 00:21:46+01:00</th>\n",
       "      <td>-5.06</td>\n",
       "    </tr>\n",
       "    <tr>\n",
       "      <th>2014-12-25 00:31:47+01:00</th>\n",
       "      <td>-5.06</td>\n",
       "    </tr>\n",
       "    <tr>\n",
       "      <th>2014-12-25 00:41:47+01:00</th>\n",
       "      <td>-5.12</td>\n",
       "    </tr>\n",
       "  </tbody>\n",
       "</table>\n",
       "</div>"
      ],
      "text/plain": [
       "                           outdoor\n",
       "time                              \n",
       "2014-12-25 00:01:45+01:00    -4.88\n",
       "2014-12-25 00:11:45+01:00    -4.94\n",
       "2014-12-25 00:21:46+01:00    -5.06\n",
       "2014-12-25 00:31:47+01:00    -5.06\n",
       "2014-12-25 00:41:47+01:00    -5.12"
      ]
     },
     "execution_count": 74,
     "metadata": {},
     "output_type": "execute_result"
    }
   ],
   "source": [
    "df1_dec25.head(5)"
   ]
  },
  {
   "cell_type": "code",
   "execution_count": 75,
   "metadata": {},
   "outputs": [],
   "source": [
    "df2_dec25 = df2.loc[\"2014-12-25\"]"
   ]
  },
  {
   "cell_type": "code",
   "execution_count": 76,
   "metadata": {},
   "outputs": [
    {
     "data": {
      "text/html": [
       "<div>\n",
       "<style scoped>\n",
       "    .dataframe tbody tr th:only-of-type {\n",
       "        vertical-align: middle;\n",
       "    }\n",
       "\n",
       "    .dataframe tbody tr th {\n",
       "        vertical-align: top;\n",
       "    }\n",
       "\n",
       "    .dataframe thead th {\n",
       "        text-align: right;\n",
       "    }\n",
       "</style>\n",
       "<table border=\"1\" class=\"dataframe\">\n",
       "  <thead>\n",
       "    <tr style=\"text-align: right;\">\n",
       "      <th></th>\n",
       "      <th>indoor</th>\n",
       "    </tr>\n",
       "    <tr>\n",
       "      <th>time</th>\n",
       "      <th></th>\n",
       "    </tr>\n",
       "  </thead>\n",
       "  <tbody>\n",
       "    <tr>\n",
       "      <th>2014-12-25 00:01:45+01:00</th>\n",
       "      <td>16.31</td>\n",
       "    </tr>\n",
       "    <tr>\n",
       "      <th>2014-12-25 00:11:45+01:00</th>\n",
       "      <td>16.25</td>\n",
       "    </tr>\n",
       "    <tr>\n",
       "      <th>2014-12-25 00:21:46+01:00</th>\n",
       "      <td>16.31</td>\n",
       "    </tr>\n",
       "    <tr>\n",
       "      <th>2014-12-25 00:31:47+01:00</th>\n",
       "      <td>16.31</td>\n",
       "    </tr>\n",
       "    <tr>\n",
       "      <th>2014-12-25 00:41:47+01:00</th>\n",
       "      <td>16.25</td>\n",
       "    </tr>\n",
       "  </tbody>\n",
       "</table>\n",
       "</div>"
      ],
      "text/plain": [
       "                           indoor\n",
       "time                             \n",
       "2014-12-25 00:01:45+01:00   16.31\n",
       "2014-12-25 00:11:45+01:00   16.25\n",
       "2014-12-25 00:21:46+01:00   16.31\n",
       "2014-12-25 00:31:47+01:00   16.31\n",
       "2014-12-25 00:41:47+01:00   16.25"
      ]
     },
     "execution_count": 76,
     "metadata": {},
     "output_type": "execute_result"
    }
   ],
   "source": [
    "df2_dec25.head(5)"
   ]
  },
  {
   "cell_type": "code",
   "execution_count": 78,
   "metadata": {},
   "outputs": [
    {
     "data": {
      "text/html": [
       "<div>\n",
       "<style scoped>\n",
       "    .dataframe tbody tr th:only-of-type {\n",
       "        vertical-align: middle;\n",
       "    }\n",
       "\n",
       "    .dataframe tbody tr th {\n",
       "        vertical-align: top;\n",
       "    }\n",
       "\n",
       "    .dataframe thead th {\n",
       "        text-align: right;\n",
       "    }\n",
       "</style>\n",
       "<table border=\"1\" class=\"dataframe\">\n",
       "  <thead>\n",
       "    <tr style=\"text-align: right;\">\n",
       "      <th></th>\n",
       "      <th>count</th>\n",
       "      <th>mean</th>\n",
       "      <th>std</th>\n",
       "      <th>min</th>\n",
       "      <th>25%</th>\n",
       "      <th>50%</th>\n",
       "      <th>75%</th>\n",
       "      <th>max</th>\n",
       "    </tr>\n",
       "  </thead>\n",
       "  <tbody>\n",
       "    <tr>\n",
       "      <th>outdoor</th>\n",
       "      <td>144.0</td>\n",
       "      <td>-7.788819</td>\n",
       "      <td>1.456085</td>\n",
       "      <td>-10.06</td>\n",
       "      <td>-9.075</td>\n",
       "      <td>-7.75</td>\n",
       "      <td>-6.8625</td>\n",
       "      <td>-4.88</td>\n",
       "    </tr>\n",
       "  </tbody>\n",
       "</table>\n",
       "</div>"
      ],
      "text/plain": [
       "         count      mean       std    min    25%   50%     75%   max\n",
       "outdoor  144.0 -7.788819  1.456085 -10.06 -9.075 -7.75 -6.8625 -4.88"
      ]
     },
     "execution_count": 78,
     "metadata": {},
     "output_type": "execute_result"
    }
   ],
   "source": [
    "df1_dec25.describe().T"
   ]
  },
  {
   "cell_type": "code",
   "execution_count": 80,
   "metadata": {},
   "outputs": [
    {
     "data": {
      "image/png": "[encoded data removed]",
      "text/plain": [
       "<Figure size 864x288 with 1 Axes>"
      ]
     },
     "metadata": {
      "needs_background": "light"
     },
     "output_type": "display_data"
    }
   ],
   "source": [
    "fig, ax = plt.subplots(1, 1, figsize=(12, 4))\n",
    "\n",
    "df1_dec25.plot(ax=ax)\n",
    "plt.show()\n",
    "\n"
   ]
  },
  {
   "cell_type": "code",
   "execution_count": 81,
   "metadata": {},
   "outputs": [
    {
     "data": {
      "text/plain": [
       "DatetimeIndex(['2014-01-01 00:03:06+01:00', '2014-01-01 00:13:06+01:00',\n",
       "               '2014-01-01 00:23:07+01:00', '2014-01-01 00:33:07+01:00',\n",
       "               '2014-01-01 00:43:08+01:00', '2014-01-01 00:53:08+01:00',\n",
       "               '2014-01-01 01:03:09+01:00', '2014-01-01 01:13:09+01:00',\n",
       "               '2014-01-01 01:23:10+01:00', '2014-01-01 01:33:26+01:00',\n",
       "               ...\n",
       "               '2014-12-30 22:26:30+01:00', '2014-12-30 22:36:31+01:00',\n",
       "               '2014-12-30 22:46:31+01:00', '2014-12-30 22:56:32+01:00',\n",
       "               '2014-12-30 23:06:32+01:00', '2014-12-30 23:16:33+01:00',\n",
       "               '2014-12-30 23:26:33+01:00', '2014-12-30 23:36:34+01:00',\n",
       "               '2014-12-30 23:46:35+01:00', '2014-12-30 23:56:35+01:00'],\n",
       "              dtype='datetime64[ns, Europe/Stockholm]', name='time', length=49548, freq=None)"
      ]
     },
     "execution_count": 81,
     "metadata": {},
     "output_type": "execute_result"
    }
   ],
   "source": [
    "df1.index"
   ]
  },
  {
   "cell_type": "code",
   "execution_count": null,
   "metadata": {},
   "outputs": [],
   "source": []
  }
 ],
 "metadata": {
  "kernelspec": {
   "display_name": "Python 3",
   "language": "python",
   "name": "python3"
  },
  "language_info": {
   "codemirror_mode": {
    "name": "ipython",
    "version": 3
   },
   "file_extension": ".py",
   "mimetype": "text/x-python",
   "name": "python",
   "nbconvert_exporter": "python",
   "pygments_lexer": "ipython3",
   "version": "3.7.3"
  }
 },
 "nbformat": 4,
 "nbformat_minor": 2
}
