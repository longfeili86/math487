{
 "cells": [
  {
   "cell_type": "markdown",
   "metadata": {},
   "source": [
    "# Lecture 10\n",
    "\n",
    "## References\n",
    "\n",
    "* Numerical Python: Scientific Computing and Data Science Applications with Numpy, SciPy and Matplotlib (2nd Edition), Robert Johansson.  "
   ]
  },
  {
   "cell_type": "markdown",
   "metadata": {},
   "source": [
    "## This Lecture\n",
    "* Numerical Integration"
   ]
  },
  {
   "cell_type": "markdown",
   "metadata": {},
   "source": [
    "## Numerical Integration\n",
    "\n",
    "Numerical Integration is also known as quadrature.\n",
    "\n",
    "**Derivation**:\n",
    "\n",
    "Given $n+1$ equally spaced data points: $(x_i,f(x_i))$ for $i=0,1,2,\\dots,n$, the interpolating polynomial is \n",
    "$$\n",
    "p_n(x) = \\sum_{i=0}^{n+1}f(x_i) l_i(x),\n",
    "$$\n",
    "where $l_i(x)$  is the Lagrange basis function defined by \n",
    "$$\n",
    "l_i{(x)} =\\prod_{k=0\\\\k\\neq i}^{n+1}\\frac{(x-x_k)}{(x_j-x_k)}.\n",
    "$$\n",
    "\n",
    "The degree $n$ polynomial is an approxmation of the function $f(x)$. \n",
    "\n",
    "\n",
    "Integrating $p_n(x)$ results the Newton-Cotes formulas:\n",
    "$$\n",
    "J(f) = \\sum_{i=0}^{n+1}f(x_i) \\int_a^b l_i(x) dx \\approx  \\int_a^bf(x)dx\n",
    "$$\n",
    "\n",
    "## Some commonly used Newton-Cotes formulas:\n",
    "\n",
    "* Middle Point Rule\n",
    "$$\n",
    " \\int_a^bf(x)dx \\approx (b-a)f\\left(\\frac{a+b}{2}\\right)\n",
    "$$\n",
    "\n",
    "* Trapzoidal Rule\n",
    "$$\n",
    " \\int_a^bf(x)dx \\approx \\frac{b-a}{2}\\left[f(a)+f(b)\\right]\n",
    "$$\n",
    "\n",
    "* Simposons Rule\n",
    "\n",
    "$$\n",
    " \\int_a^bf(x)dx \\approx \\frac{b-a}{6}\\left[f(a)+4f\\left(\\frac{a+b}{2}\\right)+f(b)\\right]\n",
    "$$\n",
    "\n",
    "\n",
    "\n",
    "\n"
   ]
  },
  {
   "cell_type": "code",
   "execution_count": 253,
   "metadata": {},
   "outputs": [],
   "source": [
    "#import moduels\n",
    "import numpy as np\n",
    "from scipy import interpolate, integrate\n",
    "import matplotlib.pyplot as plt"
   ]
  },
  {
   "cell_type": "markdown",
   "metadata": {},
   "source": [
    "## <font color=blue> Example </font>:  Implement the Above Rules\n",
    "\n"
   ]
  },
  {
   "cell_type": "code",
   "execution_count": 254,
   "metadata": {},
   "outputs": [],
   "source": [
    "def middlePointRule(y,dx):\n",
    "    #input:\n",
    "    # y:  function value at the middle point\n",
    "    # dx: spacing of the interval \n",
    "    numberOfDataPoints=len(y)\n",
    "    assert len(dx)==numberOfDataPoints,\"Error: lengths of dx and y are not equal\"\n",
    "    assert numberOfDataPoints>=1, \"Error: we need at one data points to use Middle Point Rule\"\n",
    "    J=0.\n",
    "    for i in range(numberOfDataPoints):\n",
    "        J+=dx[i]*y[i]  # (b-a)*f((a+b)/2)\n",
    "                    \n",
    "    return J"
   ]
  },
  {
   "cell_type": "code",
   "execution_count": 255,
   "metadata": {},
   "outputs": [],
   "source": [
    "def trapzoidalRule(y,x):\n",
    "    #input:\n",
    "    # y:  function value at the middle point\n",
    "    # dx: spacing of the interval\n",
    "    numberOfDataPoints=len(y)\n",
    "    assert len(x)==numberOfDataPoints,\"Error: lengths of x and y are not equal\"\n",
    "    assert numberOfDataPoints>=2, \"Error: we need at two data points to use Trapzoidal Rule\"\n",
    "    J=0.\n",
    "    for i in range(numberOfDataPoints-1):\n",
    "        J+=0.5*(x[i+1]-x[i])*(y[i]+y[i+1]) # 0.5*(b-a)*(f(a)+f(b))\n",
    "    \n",
    "    return J"
   ]
  },
  {
   "cell_type": "code",
   "execution_count": 256,
   "metadata": {},
   "outputs": [],
   "source": [
    "def simpsonsRule(y,x):\n",
    "    #input:\n",
    "    # y:  function value at the middle point\n",
    "    # dx: spacing of the interval\n",
    "    numberOfDataPoints=len(y)\n",
    "    assert len(x)==numberOfDataPoints,\"Error: lengths of x and y are not equal\"\n",
    "    assert numberOfDataPoints>=3, \"Error: we need at least three data points to use Trapzoidal Rule\"\n",
    "    assert numberOfDataPoints%2==1, \"Error: we need an odd number of data points ot use Trapzoidal Rule\"\n",
    "    \n",
    "    numberOfSubintervalPairs=int((numberOfDataPoints-1)/2) #  we use pair of subintervals for simpsons rule\n",
    "    J=0.\n",
    "    for i in range(numberOfSubintervalPairs):\n",
    "        a,fa=x[2*i],y[2*i]\n",
    "        c,fc=x[2*i+1],y[2*i+1]\n",
    "        b,fb=x[2*i+2],y[2*i+2]     \n",
    "        J+=(b-a)/6.0*(fa+4.*fc+fb)\n",
    "    \n",
    "    return J\n"
   ]
  },
  {
   "cell_type": "markdown",
   "metadata": {},
   "source": [
    "Test the above functions: \n",
    "\n",
    "Estimate \n",
    "$$\n",
    "\\int_{0}^{2} e^xdx. \n",
    "$$\n",
    "We knonw the exact solution is \n",
    "$$\n",
    "I  = e^x \\vert_{0}^2 = e^2-1 \\approx 6.38905609893065\n",
    "$$\n"
   ]
  },
  {
   "cell_type": "code",
   "execution_count": 257,
   "metadata": {},
   "outputs": [],
   "source": [
    "f = lambda x: np.exp(x) # define the integrand"
   ]
  },
  {
   "cell_type": "code",
   "execution_count": 258,
   "metadata": {},
   "outputs": [],
   "source": [
    "x = np.array([1.]) # middle point\n",
    "y=f(x)  # function value at middle point\n",
    "dx= np.array([2.])  # width of interval\n",
    "Jmp1 = middlePointRule(y,dx) #middle point rule with only 1 data point"
   ]
  },
  {
   "cell_type": "code",
   "execution_count": 259,
   "metadata": {},
   "outputs": [],
   "source": [
    "x = np.array([0.,2.])\n",
    "y=f(x) \n",
    "Jtz2 = trapzoidalRule(y,x) #trapzoidal rule with only 2 data points"
   ]
  },
  {
   "cell_type": "code",
   "execution_count": 260,
   "metadata": {},
   "outputs": [],
   "source": [
    "x = np.array([0.,1.,2.])\n",
    "y=f(x)\n",
    "Jsp3=simpsonsRule(y,x) #simpsons rule with only 3 data points"
   ]
  },
  {
   "cell_type": "code",
   "execution_count": 261,
   "metadata": {},
   "outputs": [
    {
     "name": "stdout",
     "output_type": "stream",
     "text": [
      "Middle Point Rule: 5.436564\n",
      "Trapzoidal Rule: 8.389056\n",
      "Simpsons Rule:6.420728\n",
      "\n"
     ]
    }
   ],
   "source": [
    "print(\"Middle Point Rule: %f\\nTrapzoidal Rule: %f\\nSimpsons Rule:%f\\n\"%(Jmp1,Jtz2,Jsp3)) # print results"
   ]
  },
  {
   "cell_type": "markdown",
   "metadata": {},
   "source": [
    "So what is going on here? Let's visualize the quadrature rules"
   ]
  },
  {
   "cell_type": "code",
   "execution_count": 262,
   "metadata": {},
   "outputs": [],
   "source": [
    "# data points involved\n",
    "x= np.array([0.,1.,2.]) \n",
    "y=f(x)\n",
    "\n",
    "xx=np.linspace(0,2,100) # oversampled grids for plotting\n",
    "yy=f(xx)"
   ]
  },
  {
   "cell_type": "code",
   "execution_count": 263,
   "metadata": {},
   "outputs": [
    {
     "data": {
      "text/plain": [
       "Text(0.1, 6, '$\\\\int_a^bf(x)dx \\\\approx 6.421$')"
      ]
     },
     "execution_count": 263,
     "metadata": {},
     "output_type": "execute_result"
    },
    {
     "data": {
      "image/png": "[encoded data removed]",
      "text/plain": [
       "<Figure size 864x216 with 3 Axes>"
      ]
     },
     "metadata": {
      "needs_background": "light"
     },
     "output_type": "display_data"
    }
   ],
   "source": [
    "figs,axes=plt.subplots(1,3,figsize=(12, 3)) # figsize=(width,height) in inches\n",
    "\n",
    "# plot middle point rule\n",
    "axes[0].plot(xx,yy,'k',lw=2)\n",
    "axes[0].fill_between(xx,yy,color='g',alpha=0.5)  # alpha controls the opacity of a color\n",
    "axes[0].scatter(np.array(x[1]),np.array(y[1]),c='red',s=100)  # red color, size 100 points\n",
    "fmp=interpolate.interp1d(x,y[1]+np.zeros(3),kind='nearest') # zeroth order interpolation \n",
    "axes[0].plot(xx,fmp(xx),color='b',lw=2)  # interpolating polynomial\n",
    "axes[0].fill_between(xx,fmp(xx),color='b',alpha=0.2)  # alpha controls the opacity of a color\n",
    "axes[0].set_title('middle point rule')\n",
    "axes[0].text(0.1, 6, r'$\\int_a^bf(x)dx \\approx %.3f$'%Jmp1)\n",
    "\n",
    "\n",
    "\n",
    "# plot trapzoidal rule\n",
    "axes[1].plot(xx,yy,'k',lw=2)\n",
    "axes[1].fill_between(xx,yy,color='g',alpha=0.5)  # alpha controls the opacity of a color\n",
    "axes[1].scatter(x[[0,2]],y[[0,2]],c='red',s=100)  # red color, size 100 points\n",
    "ftp=interpolate.interp1d(x[[0,2]],y[[0,2]],kind='linear') # linear interpolation \n",
    "axes[1].plot(xx,ftp(xx),color='b',lw=2)  # interpolating polynomial\n",
    "axes[1].fill_between(xx,ftp(xx),color='b',alpha=0.2)  # alpha controls the opacity of a color\n",
    "axes[1].set_title('trapzoidal rule')\n",
    "axes[1].text(0.1, 6, r'$\\int_a^bf(x)dx \\approx %.3f$'%Jtz2)\n",
    "\n",
    "\n",
    "\n",
    "\n",
    "# plot simpsons rule\n",
    "axes[2].plot(xx,yy,'k',lw=2)\n",
    "axes[2].fill_between(xx,yy,color='g',alpha=0.5)  # alpha controls the opacity of a color\n",
    "axes[2].scatter(x,y,c='red',s=100)  # red color, size 100 points\n",
    "ftp=interpolate.interp1d(x,y,kind=2) # quadratic interpolation \n",
    "axes[2].plot(xx,ftp(xx),color='b',lw=2)  # interpolating polynomial\n",
    "axes[2].fill_between(xx,ftp(xx),color='b',alpha=0.2)  # alpha controls the opacity of a color\n",
    "axes[2].set_title('Simpsons rule')\n",
    "axes[2].text(0.1, 6, r'$\\int_a^bf(x)dx \\approx %.3f$'%Jsp3)\n",
    "\n",
    "\n",
    "\n",
    "\n",
    "\n"
   ]
  },
  {
   "cell_type": "markdown",
   "metadata": {},
   "source": [
    "We can improve the results by adding more data points (composite rules). \n",
    "Consider using 4 subintervals for the three rules"
   ]
  },
  {
   "cell_type": "code",
   "execution_count": 264,
   "metadata": {},
   "outputs": [],
   "source": [
    "xmp = np.array([0.25,0.75,1.25,1.75])\n",
    "ymp = f(xmp)\n",
    "dxmp = np.array([0.5,0.5,0.5,0.5])\n",
    "Jmp=middlePointRule(ymp,dxmp) #simpsons rule using 4 subintervals"
   ]
  },
  {
   "cell_type": "code",
   "execution_count": 265,
   "metadata": {},
   "outputs": [],
   "source": [
    "xdata = np.array([0.,0.5,1.0,1.5,2.0])\n",
    "ydata = f(xdata)\n",
    "Jtz=trapzoidalRule(ydata,xdata) #trapzoidal rule using 4 subintervals\n",
    "Jsp=simpsonsRule(ydata,xdata) #simpsons rule using 4 subintervals"
   ]
  },
  {
   "cell_type": "code",
   "execution_count": 266,
   "metadata": {},
   "outputs": [
    {
     "name": "stdout",
     "output_type": "stream",
     "text": [
      "Middle Point Rule: 6.322986\n",
      "Trapzoidal Rule: 6.521610\n",
      "Simpsons Rule:6.391210\n",
      "\n"
     ]
    }
   ],
   "source": [
    "print(\"Middle Point Rule: %f\\nTrapzoidal Rule: %f\\nSimpsons Rule:%f\\n\"%(Jmp,Jtz,Jsp)) # print results"
   ]
  },
  {
   "cell_type": "markdown",
   "metadata": {},
   "source": [
    "Visualization"
   ]
  },
  {
   "cell_type": "code",
   "execution_count": 268,
   "metadata": {},
   "outputs": [
    {
     "data": {
      "text/plain": [
       "Text(0.1, 6, '$\\\\int_a^bf(x)dx \\\\approx 6.323$')"
      ]
     },
     "execution_count": 268,
     "metadata": {},
     "output_type": "execute_result"
    },
    {
     "data": {
      "image/png": "[encoded data removed]",
      "text/plain": [
       "<Figure size 864x216 with 3 Axes>"
      ]
     },
     "metadata": {
      "needs_background": "light"
     },
     "output_type": "display_data"
    }
   ],
   "source": [
    "figs,axes=plt.subplots(1,3,figsize=(12, 3)) # figsize=(width,height) in inches\n",
    "\n",
    "# plot middle point rule\n",
    "axes[0].plot(xx,yy,'k',lw=2)\n",
    "axes[0].fill_between(xx,yy,color='g',alpha=0.5)  # alpha controls the opacity of a color\n",
    "axes[0].scatter(xmp,ymp,c='red',s=100)  # red color, size 100 points\n",
    "xmpi=np.insert(xmp,[0,xmp.size],[0.,2.]) # adding end points to plot the interp\n",
    "ympi=np.insert(ymp,[0,ymp.size],[f(0.25),f(1.75)])# adding end points to plot the interp\n",
    "fmp=interpolate.interp1d(xmpi,ympi,kind='nearest') # zeroth order interpolation \n",
    "axes[0].plot(xx,fmp(xx),color='b',lw=2)  # interpolating polynomial\n",
    "axes[0].fill_between(xx,fmp(xx),color='b',alpha=0.2)  # alpha controls the opacity of a color\n",
    "axes[0].set_title('middle point rule')\n",
    "axes[0].text(0.1, 6, r'$\\int_a^bf(x)dx \\approx %.3f$'%Jmp)\n",
    "\n",
    "\n",
    "\n",
    "\n",
    "# plot trapzoidal rule\n",
    "axes[1].plot(xx,yy,'k',lw=2)\n",
    "axes[1].fill_between(xx,yy,color='g',alpha=0.5)  # alpha controls the opacity of a color\n",
    "axes[1].scatter(xdata,yxdata,c='red',s=100)  # red color, size 100 points\n",
    "ftp=interpolate.interp1d(xdata,ydata,kind='linear') # linear interpolation \n",
    "axes[1].plot(xx,ftp(xx),color='b',lw=2)  # interpolating polynomial\n",
    "axes[1].fill_between(xx,ftp(xx),color='b',alpha=0.2)  # alpha controls the opacity of a color\n",
    "axes[1].set_title('trapzoidal rule')\n",
    "axes[1].text(0.1, 6, r'$\\int_a^bf(x)dx \\approx %.3f$'%Jtz2)\n",
    "\n",
    "\n",
    "\n",
    "\n"
   ]
  },
  {
   "cell_type": "code",
   "execution_count": null,
   "metadata": {},
   "outputs": [],
   "source": []
  }
 ],
 "metadata": {
  "kernelspec": {
   "display_name": "Python 3",
   "language": "python",
   "name": "python3"
  },
  "language_info": {
   "codemirror_mode": {
    "name": "ipython",
    "version": 3
   },
   "file_extension": ".py",
   "mimetype": "text/x-python",
   "name": "python",
   "nbconvert_exporter": "python",
   "pygments_lexer": "ipython3",
   "version": "3.7.3"
  }
 },
 "nbformat": 4,
 "nbformat_minor": 2
}
