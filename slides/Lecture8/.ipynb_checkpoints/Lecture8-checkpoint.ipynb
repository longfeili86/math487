{
 "cells": [
  {
   "cell_type": "markdown",
   "metadata": {},
   "source": [
    "# Lecture 8\n",
    "\n",
    "## References\n",
    "\n",
    "* Numerical Python: Scientific Computing and Data Science Applications with Numpy, SciPy and Matplotlib (2nd Edition), Robert Johansson.  "
   ]
  },
  {
   "cell_type": "markdown",
   "metadata": {},
   "source": [
    "## This Lecture\n",
    "* Spline Interpolation\n"
   ]
  },
  {
   "cell_type": "markdown",
   "metadata": {},
   "source": [
    "## Drawbacks\n",
    "\n",
    "* poly interp for a few data points is powerful\n",
    "* increasing the number of data points increases the degree of the polynomial\n",
    "* higher degree polynomial can be problematic in several ways:\n",
    " 1. computationally more expensive to both determine and evaluate a high degree polynomial\n",
    " 2. high degree polynomial is oscillatory: changes rapidly between data points (well-known Runge's phenominon)  \n",
    " \n",
    " \n",
    "<font color='blue'>**Example** </font>: \n",
    "Consider the nth order interpolation using (n+1) equally spaced data points for the Runge's function\n",
    "$$\n",
    "f(x)=\\frac{1}{1+25x^2}, ~x\\in[-1,1]\n",
    "$$"
   ]
  },
  {
   "cell_type": "code",
   "execution_count": 1,
   "metadata": {},
   "outputs": [],
   "source": [
    "import numpy as np\n",
    "from numpy import polynomial as P\n",
    "import matplotlib.pyplot as plt\n",
    "runge =lambda x: 1/(1+25*x**2) # define the Runge function \n",
    "\n",
    "def runge_interpolate(n):\n",
    "    x = np.linspace(-1,1,n+1) # create equally spaced sample data points\n",
    "    # find the degree n interpolating polynomial for the sample data points (x,runge(x))\n",
    "    p = P.Polynomial.fit(x,runge(x),n) \n",
    "    return x, p"
   ]
  },
  {
   "cell_type": "code",
   "execution_count": 2,
   "metadata": {},
   "outputs": [
    {
     "data": {
      "image/png": "[encoded data removed]",
      "text/plain": [
       "<Figure size 432x288 with 1 Axes>"
      ]
     },
     "metadata": {
      "needs_background": "light"
     },
     "output_type": "display_data"
    }
   ],
   "source": [
    "xx = np.linspace(-1,1,250) # over-sampling for plotting\n",
    "fig,ax=plt.subplots()\n",
    "ax.plot(xx,runge(xx),'k',lw=2,label=\"Runge's function\")\n",
    "# 13 th order interpolation of the Runge's function\n",
    "n=13\n",
    "x,p=runge_interpolate(n)\n",
    "ax.plot(x,runge(x),'ro') # plot the data points\n",
    "ax.plot(xx,p(xx),'r',label='interp. order %d' %n)\n",
    "# 14 th order interpolation of the Runge's function\n",
    "n=14\n",
    "x,p=runge_interpolate(n)\n",
    "ax.plot(x,runge(x),'bo') # plot the data points\n",
    "ax.plot(xx,p(xx),'b',label='interp. order %d' %n)\n",
    "\n",
    "ax.legend(loc='best')\n",
    "plt.show()"
   ]
  },
  {
   "cell_type": "markdown",
   "metadata": {},
   "source": [
    "A solution to this is to use piecewise low-order polynomials when interpolating a larger number of data points, i.e., \n",
    "**Spline Interpolation** "
   ]
  },
  {
   "cell_type": "markdown",
   "metadata": {},
   "source": [
    "## Spline Interpolation\n",
    "\n",
    "* piecewise polynomial to interpolate"
   ]
  },
  {
   "cell_type": "code",
   "execution_count": 3,
   "metadata": {},
   "outputs": [],
   "source": [
    "x=np.linspace(-1,1,11)"
   ]
  },
  {
   "cell_type": "code",
   "execution_count": 4,
   "metadata": {},
   "outputs": [
    {
     "data": {
      "text/plain": [
       "array([-1. , -0.8, -0.6, -0.4, -0.2,  0. ,  0.2,  0.4,  0.6,  0.8,  1. ])"
      ]
     },
     "execution_count": 4,
     "metadata": {},
     "output_type": "execute_result"
    }
   ],
   "source": [
    "x"
   ]
  },
  {
   "cell_type": "code",
   "execution_count": 5,
   "metadata": {},
   "outputs": [],
   "source": [
    "y=runge(x)"
   ]
  },
  {
   "cell_type": "code",
   "execution_count": 6,
   "metadata": {},
   "outputs": [],
   "source": [
    "from scipy import interpolate"
   ]
  },
  {
   "cell_type": "code",
   "execution_count": 7,
   "metadata": {},
   "outputs": [],
   "source": [
    "f_i=interpolate.interp1d(x,y,kind=3)"
   ]
  },
  {
   "cell_type": "code",
   "execution_count": 8,
   "metadata": {},
   "outputs": [
    {
     "data": {
      "image/png": "[encoded data removed]",
      "text/plain": [
       "<Figure size 432x288 with 1 Axes>"
      ]
     },
     "metadata": {
      "needs_background": "light"
     },
     "output_type": "display_data"
    }
   ],
   "source": [
    "xx=np.linspace(-1,1,100) # oversampling for plotting\n",
    "fig,ax = plt.subplots()\n",
    "ax.plot(xx,runge(xx),'k',lw=1,label='Runges function')\n",
    "ax.plot(xx,f_i(xx),'r',lw=1,label='spline interp order 3')\n",
    "ax.plot(x,y,'ro',label='data points')\n",
    "\n",
    "plt.show()"
   ]
  },
  {
   "cell_type": "markdown",
   "metadata": {},
   "source": [
    "**Example** Spline interpolation of various order"
   ]
  },
  {
   "cell_type": "code",
   "execution_count": 94,
   "metadata": {},
   "outputs": [],
   "source": [
    "x=np.array([0,1,2,3,4,5,6,7])\n",
    "y=np.array([3,4,3.5,2,1,1.5,1.25,0.9])"
   ]
  },
  {
   "cell_type": "code",
   "execution_count": 95,
   "metadata": {},
   "outputs": [
    {
     "data": {
      "text/plain": [
       "array([0, 1, 2, 3, 4, 5, 6, 7])"
      ]
     },
     "execution_count": 95,
     "metadata": {},
     "output_type": "execute_result"
    }
   ],
   "source": [
    "x"
   ]
  },
  {
   "cell_type": "code",
   "execution_count": 96,
   "metadata": {},
   "outputs": [
    {
     "data": {
      "text/plain": [
       "array([3.  , 4.  , 3.5 , 2.  , 1.  , 1.5 , 1.25, 0.9 ])"
      ]
     },
     "execution_count": 96,
     "metadata": {},
     "output_type": "execute_result"
    }
   ],
   "source": [
    "y"
   ]
  },
  {
   "cell_type": "code",
   "execution_count": 97,
   "metadata": {},
   "outputs": [
    {
     "data": {
      "text/plain": [
       "8"
      ]
     },
     "execution_count": 97,
     "metadata": {},
     "output_type": "execute_result"
    }
   ],
   "source": [
    "x.size"
   ]
  },
  {
   "cell_type": "code",
   "execution_count": 98,
   "metadata": {},
   "outputs": [
    {
     "data": {
      "text/plain": [
       "8"
      ]
     },
     "execution_count": 98,
     "metadata": {},
     "output_type": "execute_result"
    }
   ],
   "source": [
    "y.size"
   ]
  },
  {
   "cell_type": "code",
   "execution_count": 99,
   "metadata": {},
   "outputs": [],
   "source": [
    "xx=np.linspace(x.min(),x.max(),100)"
   ]
  },
  {
   "cell_type": "code",
   "execution_count": 105,
   "metadata": {},
   "outputs": [
    {
     "data": {
      "image/png": "[encoded data removed]",
      "text/plain": [
       "<Figure size 432x288 with 1 Axes>"
      ]
     },
     "metadata": {
      "needs_background": "light"
     },
     "output_type": "display_data"
    }
   ],
   "source": [
    "fig,ax = plt.subplots()\n",
    "ax.plot(x,y,'ro')\n",
    "\n",
    "for n in [1,2,3,5,7]:\n",
    "    f=interpolate.interp1d(x,y,kind=n)\n",
    "    ax.plot(xx,f(xx),label='order %d' % n)\n",
    "\n",
    "ax.legend(loc='best')\n",
    "plt.show()"
   ]
  }
 ],
 "metadata": {
  "kernelspec": {
   "display_name": "Python 3",
   "language": "python",
   "name": "python3"
  },
  "language_info": {
   "codemirror_mode": {
    "name": "ipython",
    "version": 3
   },
   "file_extension": ".py",
   "mimetype": "text/x-python",
   "name": "python",
   "nbconvert_exporter": "python",
   "pygments_lexer": "ipython3",
   "version": "3.7.3"
  }
 },
 "nbformat": 4,
 "nbformat_minor": 2
}
