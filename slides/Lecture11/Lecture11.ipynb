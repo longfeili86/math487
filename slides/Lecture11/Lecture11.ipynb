{
 "cells": [
  {
   "cell_type": "markdown",
   "metadata": {},
   "source": [
    "# Lecture 11\n",
    "\n",
    "## References\n",
    "\n",
    "* Numerical Python: Scientific Computing and Data Science Applications with Numpy, SciPy and Matplotlib (2nd Edition), Robert Johansson.  "
   ]
  },
  {
   "cell_type": "markdown",
   "metadata": {},
   "source": [
    "## This Lecture\n",
    "* Numerical integration using **scipy.integrate** submodule"
   ]
  },
  {
   "cell_type": "markdown",
   "metadata": {},
   "source": [
    "## Numerical Integration\n",
    "\n",
    "Numerical Integration is also known as quadrature.\n",
    "\n",
    "**Derivation**:\n",
    "\n",
    "Given $n+1$ equally spaced data points: $(x_i,f(x_i))$ for $i=0,1,2,\\dots,n$, the interpolating polynomial is \n",
    "$$\n",
    "p_n(x) = \\sum_{i=0}^{n+1}f(x_i) l_i(x),\n",
    "$$\n",
    "where $l_i(x)$  is the Lagrange basis function defined by \n",
    "$$\n",
    "l_i{(x)} =\\prod_{k=0\\\\k\\neq i}^{n+1}\\frac{(x-x_k)}{(x_j-x_k)}.\n",
    "$$\n",
    "\n",
    "The degree $n$ polynomial is an approxmation of the function $f(x)$. \n",
    "\n",
    "\n",
    "Integrating $p_n(x)$ results the Newton-Cotes formulas:\n",
    "$$\n",
    "J(f) = \\sum_{i=0}^{n+1}f(x_i) \\int_a^b l_i(x) dx \\approx  \\int_a^bf(x)dx\n",
    "$$\n",
    "\n",
    "## Some commonly used Newton-Cotes formulas:\n",
    "\n",
    "* Middle Point Rule\n",
    "$$\n",
    " \\int_a^bf(x)dx \\approx (b-a)f\\left(\\frac{a+b}{2}\\right)\n",
    "$$\n",
    "\n",
    "* Trapzoidal Rule\n",
    "$$\n",
    " \\int_a^bf(x)dx \\approx \\frac{b-a}{2}\\left[f(a)+f(b)\\right]\n",
    "$$\n",
    "\n",
    "* Simpsons Rule\n",
    "\n",
    "$$\n",
    " \\int_a^bf(x)dx \\approx \\frac{b-a}{6}\\left[f(a)+4f\\left(\\frac{a+b}{2}\\right)+f(b)\\right]\n",
    "$$\n",
    "\n",
    "\n",
    "\n",
    "\n"
   ]
  },
  {
   "cell_type": "markdown",
   "metadata": {},
   "source": [
    "## Numerical Integration with Scipy\n",
    "numerical quadrature routines in the SciPy ingegrate module can be categorized into:\n",
    "* rountines that takes arrays with samples of the integrand at given data points (tabulated integrand)\n",
    "* rountines that takes the integrand as a python function "
   ]
  },
  {
   "cell_type": "code",
   "execution_count": 1,
   "metadata": {},
   "outputs": [],
   "source": [
    "#import modules\n",
    "import numpy as np\n",
    "from scipy import integrate\n",
    "import matplotlib.pyplot as plt"
   ]
  },
  {
   "cell_type": "markdown",
   "metadata": {},
   "source": [
    "## Tabulated Integrand\n",
    "Integrand specified at predetermined points: e.g. (xdata,ydata) \n",
    "\n",
    "This type of situation can occur for the following situations: \n",
    "* integrand it obtained from from experiment or observations \n",
    "* if a function integrand is given, we can sample it at some predetermined points\n",
    "\n",
    "we can use Newton-Cotes formulas (e.g., Middle point, trapzoidle  and simpsons rules). \n",
    "\n",
    "We had our own implementation in previous lecture. Python also has its implementation\n"
   ]
  },
  {
   "cell_type": "markdown",
   "metadata": {},
   "source": [
    "<font color=blue>**Example**:\n",
    "    evaluate\n",
    "    $$\n",
    "    \\int_0^2\\sqrt{x}dx\n",
    "    $$\n",
    "    by taking 25 sample points. \n",
    "    We know the exact solution is \n",
    "      $$\n",
    "    \\int_0^2\\sqrt{x}dx = \\frac{4}{3}\\sqrt{2} \\approx 1.885618083164127\n",
    "    $$\n",
    "</font>\n"
   ]
  },
  {
   "cell_type": "code",
   "execution_count": 2,
   "metadata": {},
   "outputs": [],
   "source": [
    "val_exact=4./3.*np.sqrt(2) # set the exact value"
   ]
  },
  {
   "cell_type": "code",
   "execution_count": 3,
   "metadata": {},
   "outputs": [],
   "source": [
    "f = lambda x: np.sqrt(x)"
   ]
  },
  {
   "cell_type": "code",
   "execution_count": 4,
   "metadata": {},
   "outputs": [],
   "source": [
    "xdata=np.linspace(0,2, 25)\n",
    "ydata=f(xdata)\n",
    "xx=np.linspace(0,2, 500) # oversampled data for plot"
   ]
  },
  {
   "cell_type": "markdown",
   "metadata": {},
   "source": [
    "Geometrical interpretation:"
   ]
  },
  {
   "cell_type": "code",
   "execution_count": 5,
   "metadata": {},
   "outputs": [
    {
     "data": {
      "image/png": "[encoded data removed]",
      "text/plain": [
       "<Figure size 576x216 with 1 Axes>"
      ]
     },
     "metadata": {
      "needs_background": "light"
     },
     "output_type": "display_data"
    }
   ],
   "source": [
    "fig,ax=plt.subplots(figsize=(8,3))\n",
    "ax.scatter(xdata,ydata,color='b')\n",
    "ax.plot(xx,f(xx),'b-')\n",
    "ax.fill_between(xx,f(xx),color='g',alpha=0.2)\n",
    "ax.set_xlabel(r\"$x$\",fontsize=18)\n",
    "ax.set_ylabel(r\"$f(x)$\",fontsize=18)\n",
    "plt.show()"
   ]
  },
  {
   "cell_type": "markdown",
   "metadata": {},
   "source": [
    "Compute using trapz and simps "
   ]
  },
  {
   "cell_type": "code",
   "execution_count": 6,
   "metadata": {},
   "outputs": [
    {
     "name": "stdout",
     "output_type": "stream",
     "text": [
      "val_trapz: 1.880822\n",
      "val_simps: 1.883665\n"
     ]
    }
   ],
   "source": [
    "val_trapz=integrate.trapz(ydata,xdata)\n",
    "val_simps=integrate.simps(ydata,xdata)\n",
    "print('val_trapz: %f\\nval_simps: %f'%(val_trapz,val_simps))"
   ]
  },
  {
   "cell_type": "markdown",
   "metadata": {},
   "source": [
    "Compute errors"
   ]
  },
  {
   "cell_type": "code",
   "execution_count": 7,
   "metadata": {},
   "outputs": [
    {
     "name": "stdout",
     "output_type": "stream",
     "text": [
      "err_trapz: 0.004796\n",
      "err_simps: 0.001953\n"
     ]
    }
   ],
   "source": [
    "err_trapz=abs(val_trapz-val_exact)\n",
    "err_simps=abs(val_simps-val_exact)\n",
    "print('err_trapz: %f\\nerr_simps: %f'%(err_trapz,err_simps))"
   ]
  },
  {
   "cell_type": "markdown",
   "metadata": {},
   "source": [
    "**Remark**: \n",
    "all the information we have about the integrand is the given sampled points, so we can not ask trapz or simps to compute more accurate data. \n",
    "\n",
    "Only way to increase accuracy is to increase the number of data points, which might be difficult if the underlying function is not known."
   ]
  },
  {
   "cell_type": "markdown",
   "metadata": {},
   "source": [
    "Let's consider the second type: \n",
    "* rountines that takes the integrand as a python function\n",
    "\n",
    "**quad** function is an implementation of adaptive Gaussion quadrature rule. The python version of **quad** is basically wrapper for rountines from the FORTRAN library **QUADPACK**. So the speed is fast (recall compiled languages,  intepreted languages and Multilanguage Model)."
   ]
  },
  {
   "cell_type": "markdown",
   "metadata": {},
   "source": [
    "<font color=blue>**Example**:\n",
    "    evaluate\n",
    "    $$\n",
    "    \\int_{-1}^1 e^{-x^2}dx\n",
    "    $$\n",
    "    \n",
    "</font>"
   ]
  },
  {
   "cell_type": "code",
   "execution_count": 8,
   "metadata": {},
   "outputs": [],
   "source": [
    "f = lambda x: np.exp(-x**2)"
   ]
  },
  {
   "cell_type": "code",
   "execution_count": 9,
   "metadata": {},
   "outputs": [],
   "source": [
    "val,err=integrate.quad(f,-1,1)"
   ]
  },
  {
   "cell_type": "code",
   "execution_count": 10,
   "metadata": {},
   "outputs": [
    {
     "data": {
      "text/plain": [
       "1.493648265624854"
      ]
     },
     "execution_count": 10,
     "metadata": {},
     "output_type": "execute_result"
    }
   ],
   "source": [
    "val"
   ]
  },
  {
   "cell_type": "code",
   "execution_count": 11,
   "metadata": {},
   "outputs": [
    {
     "data": {
      "text/plain": [
       "1.6582826951881447e-14"
      ]
     },
     "execution_count": 11,
     "metadata": {},
     "output_type": "execute_result"
    }
   ],
   "source": [
    "err"
   ]
  },
  {
   "cell_type": "markdown",
   "metadata": {},
   "source": [
    "**quad** function returns the estimation of value and error "
   ]
  },
  {
   "cell_type": "markdown",
   "metadata": {},
   "source": [
    "We can optionally specify the values of additional arguments\n",
    "\n",
    "<font color=blue>**Example**:\n",
    "    evaluate\n",
    "    $$\n",
    "    \\int_{-1}^1 a e^{-(x-b)^2/c^2}dx\n",
    "    $$\n",
    "    \n",
    "</font>\n"
   ]
  },
  {
   "cell_type": "code",
   "execution_count": 12,
   "metadata": {},
   "outputs": [],
   "source": [
    "def f(x,a,b,c):\n",
    "    return a*np.exp(-((x-b)/c)**2)"
   ]
  },
  {
   "cell_type": "code",
   "execution_count": 13,
   "metadata": {},
   "outputs": [],
   "source": [
    "val,err=integrate.quad(f,-1,1,args=(1,2,3)) # we are passing a=1,b=2,c=3"
   ]
  },
  {
   "cell_type": "code",
   "execution_count": 14,
   "metadata": {},
   "outputs": [
    {
     "data": {
      "text/plain": [
       "1.2763068351022229"
      ]
     },
     "execution_count": 14,
     "metadata": {},
     "output_type": "execute_result"
    }
   ],
   "source": [
    "val"
   ]
  },
  {
   "cell_type": "code",
   "execution_count": 15,
   "metadata": {},
   "outputs": [
    {
     "data": {
      "text/plain": [
       "1.4169852348169507e-14"
      ]
     },
     "execution_count": 15,
     "metadata": {},
     "output_type": "execute_result"
    }
   ],
   "source": [
    "err"
   ]
  },
  {
   "cell_type": "markdown",
   "metadata": {},
   "source": [
    "We can also use lambda function to specify args"
   ]
  },
  {
   "cell_type": "code",
   "execution_count": 16,
   "metadata": {},
   "outputs": [],
   "source": [
    "g = lambda x :f(x,1,2,3)"
   ]
  },
  {
   "cell_type": "code",
   "execution_count": 17,
   "metadata": {},
   "outputs": [],
   "source": [
    "val,err=integrate.quad(g,-1,1)"
   ]
  },
  {
   "cell_type": "code",
   "execution_count": 18,
   "metadata": {},
   "outputs": [
    {
     "data": {
      "text/plain": [
       "1.2763068351022229"
      ]
     },
     "execution_count": 18,
     "metadata": {},
     "output_type": "execute_result"
    }
   ],
   "source": [
    "val"
   ]
  },
  {
   "cell_type": "code",
   "execution_count": 19,
   "metadata": {},
   "outputs": [
    {
     "data": {
      "text/plain": [
       "1.4169852348169507e-14"
      ]
     },
     "execution_count": 19,
     "metadata": {},
     "output_type": "execute_result"
    }
   ],
   "source": [
    "err"
   ]
  },
  {
   "cell_type": "markdown",
   "metadata": {},
   "source": [
    "The quad routine supports **infinite integration limits**\n",
    "\n",
    "<font color=blue>**Example**:\n",
    "    evaluate\n",
    "    $$\n",
    "    \\int_{-\\infty}^\\infty  e^{-x^2}dx\n",
    "    $$\n",
    "    \n",
    "</font>\n",
    "\n",
    "\n"
   ]
  },
  {
   "cell_type": "code",
   "execution_count": 20,
   "metadata": {},
   "outputs": [],
   "source": [
    "f = lambda x: np.exp(-x**2)"
   ]
  },
  {
   "cell_type": "code",
   "execution_count": 21,
   "metadata": {},
   "outputs": [],
   "source": [
    "val,err=integrate.quad(f,-np.inf,np.inf)"
   ]
  },
  {
   "cell_type": "code",
   "execution_count": 22,
   "metadata": {},
   "outputs": [
    {
     "data": {
      "text/plain": [
       "1.7724538509055159"
      ]
     },
     "execution_count": 22,
     "metadata": {},
     "output_type": "execute_result"
    }
   ],
   "source": [
    "val"
   ]
  },
  {
   "cell_type": "code",
   "execution_count": 23,
   "metadata": {},
   "outputs": [
    {
     "data": {
      "text/plain": [
       "1.4202636780944923e-08"
      ]
     },
     "execution_count": 23,
     "metadata": {},
     "output_type": "execute_result"
    }
   ],
   "source": [
    "err"
   ]
  },
  {
   "cell_type": "markdown",
   "metadata": {},
   "source": [
    "With a little bit help, quad function can handle many integrals with integrable singularities\n",
    "\n",
    "<font color=blue>**Example**:\n",
    "    evaluate\n",
    "    $$\n",
    "    \\int_{-1}^1  \\frac{1}{\\sqrt{|x|}}dx\n",
    "    $$\n",
    "    \n",
    "</font>"
   ]
  },
  {
   "cell_type": "code",
   "execution_count": 24,
   "metadata": {},
   "outputs": [],
   "source": [
    "f=lambda x: 1/np.sqrt(abs(x))"
   ]
  },
  {
   "cell_type": "code",
   "execution_count": 25,
   "metadata": {},
   "outputs": [
    {
     "name": "stderr",
     "output_type": "stream",
     "text": [
      "/opt/local/Library/Frameworks/Python.framework/Versions/3.7/lib/python3.7/site-packages/ipykernel_launcher.py:1: RuntimeWarning: divide by zero encountered in double_scalars\n",
      "  \"\"\"Entry point for launching an IPython kernel.\n"
     ]
    },
    {
     "data": {
      "text/plain": [
       "(inf, inf)"
      ]
     },
     "execution_count": 25,
     "metadata": {},
     "output_type": "execute_result"
    }
   ],
   "source": [
    "integrate.quad(f,-1,1)"
   ]
  },
  {
   "cell_type": "markdown",
   "metadata": {},
   "source": [
    "It is useful to graph the situation to get a better understanding"
   ]
  },
  {
   "cell_type": "code",
   "execution_count": 26,
   "metadata": {},
   "outputs": [
    {
     "data": {
      "image/png": "[encoded data removed]",
      "text/plain": [
       "<Figure size 576x216 with 1 Axes>"
      ]
     },
     "metadata": {
      "needs_background": "light"
     },
     "output_type": "display_data"
    }
   ],
   "source": [
    "fig,ax=plt.subplots(figsize=(8,3))\n",
    "x = np.linspace(-1,1,10000)\n",
    "ax.plot(x,f(x),lw=2)  # set the linewidth to be 2\n",
    "ax.fill_between(x,f(x),color='green',alpha=0.5)\n",
    "ax.set_xlabel(\"$x$\")\n",
    "ax.set_ylabel(\"$f(x)$\")\n",
    "ax.set_ylim(0,25)\n",
    "ax.set_xlim(-1,1)\n",
    "\n",
    "plt.show()\n"
   ]
  },
  {
   "cell_type": "markdown",
   "metadata": {},
   "source": [
    "We can help the quad routine by specifying a list of points that should be avoided. We use the keyword **points** to do so"
   ]
  },
  {
   "cell_type": "code",
   "execution_count": 27,
   "metadata": {},
   "outputs": [
    {
     "data": {
      "text/plain": [
       "(3.9999999999999813, 5.684341886080802e-14)"
      ]
     },
     "execution_count": 27,
     "metadata": {},
     "output_type": "execute_result"
    }
   ],
   "source": [
    "integrate.quad(f,-1,1,points=[0])"
   ]
  },
  {
   "cell_type": "code",
   "execution_count": null,
   "metadata": {},
   "outputs": [],
   "source": []
  }
 ],
 "metadata": {
  "kernelspec": {
   "display_name": "Python 3",
   "language": "python",
   "name": "python3"
  },
  "language_info": {
   "codemirror_mode": {
    "name": "ipython",
    "version": 3
   },
   "file_extension": ".py",
   "mimetype": "text/x-python",
   "name": "python",
   "nbconvert_exporter": "python",
   "pygments_lexer": "ipython3",
   "version": "3.7.3"
  }
 },
 "nbformat": 4,
 "nbformat_minor": 2
}
